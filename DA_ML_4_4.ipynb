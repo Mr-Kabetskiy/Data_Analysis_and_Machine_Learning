{
 "cells": [
  {
   "cell_type": "markdown",
   "source": [
    "# Для данного датасета обучите дерево решений (для обучения используйте массивы с ключами x, y),\n",
    "затем предскажите классы для данных доступных в файле по ключу x_test.\n",
    "\n",
    "В качестве ответа запишите метку класса - 1 или 0"
   ],
   "metadata": {
    "collapsed": false
   }
  },
  {
   "cell_type": "code",
   "execution_count": 18,
   "metadata": {
    "collapsed": true,
    "ExecuteTime": {
     "end_time": "2023-05-11T10:38:50.210773100Z",
     "start_time": "2023-05-11T10:38:50.190774Z"
    }
   },
   "outputs": [],
   "source": [
    "import numpy as np\n",
    "import pandas as pd\n",
    "from sklearn.model_selection import cross_val_score, GridSearchCV\n",
    "from sklearn.tree import DecisionTreeClassifier\n",
    "from sklearn.preprocessing import StandardScaler"
   ]
  },
  {
   "cell_type": "markdown",
   "source": [
    "Загружаем данные и формируем датасеты"
   ],
   "metadata": {
    "collapsed": false
   }
  },
  {
   "cell_type": "code",
   "execution_count": 87,
   "outputs": [],
   "source": [
    "data = np.load('content/train_data.npz')\n",
    "X = pd.DataFrame(data['x'])\n",
    "y = pd.Series(data['y'])\n",
    "X_test = pd.DataFrame(data['x_test'])"
   ],
   "metadata": {
    "collapsed": false,
    "ExecuteTime": {
     "end_time": "2023-05-11T11:55:52.592933600Z",
     "start_time": "2023-05-11T11:55:52.558776600Z"
    }
   }
  },
  {
   "cell_type": "markdown",
   "source": [
    "Масштабируем данные, для алгоритмов решающего дерева и прочих \"деревянных алгоритмов\" данная операция не нужна, однако, никогда не вредно повторить."
   ],
   "metadata": {
    "collapsed": false
   }
  },
  {
   "cell_type": "code",
   "execution_count": 65,
   "outputs": [],
   "source": [
    "sc = StandardScaler()\n",
    "X_train = pd.DataFrame(sc.fit_transform(X))\n",
    "X_test_scaler = pd.DataFrame(sc.transform(X_test))"
   ],
   "metadata": {
    "collapsed": false,
    "ExecuteTime": {
     "end_time": "2023-05-11T11:40:49.381600500Z",
     "start_time": "2023-05-11T11:40:49.371601800Z"
    }
   }
  },
  {
   "cell_type": "markdown",
   "source": [
    "Деревянные алгоритмы легко переобучаются, поэтому необходим подбор гипперпараметров. В нашем случае по сете подбираем максимальную глубину, критерий и прочее.."
   ],
   "metadata": {
    "collapsed": false
   }
  },
  {
   "cell_type": "code",
   "execution_count": 52,
   "outputs": [
    {
     "data": {
      "text/plain": "(0.9600779967159278, DecisionTreeClassifier(max_depth=3, max_features='log2'))"
     },
     "execution_count": 52,
     "metadata": {},
     "output_type": "execute_result"
    }
   ],
   "source": [
    "params = {'max_depth': np.arange(1, 20, 1),\n",
    "          'max_features': [None, 'sqrt', 'log2'],\n",
    "          'criterion': [\"gini\", \"entropy\"]}\n",
    "gs = GridSearchCV(DecisionTreeClassifier(), params, cv=3, scoring='roc_auc', n_jobs=2)\n",
    "gs.fit(X_train, y)\n",
    "gs.best_score_, gs.best_estimator_"
   ],
   "metadata": {
    "collapsed": false,
    "ExecuteTime": {
     "end_time": "2023-05-11T11:17:41.105618600Z",
     "start_time": "2023-05-11T11:17:39.115576800Z"
    }
   }
  },
  {
   "cell_type": "markdown",
   "source": [
    "Используя модель с наилучшими гипперпараметрами, снова обучаем тренировочную выборку, делаем предсказание на тестовой и выводим результат."
   ],
   "metadata": {
    "collapsed": false
   }
  },
  {
   "cell_type": "code",
   "execution_count": 53,
   "outputs": [
    {
     "data": {
      "text/plain": "     prob 0    prob 1  class\n0  0.015625  0.984375      1\n1  0.015625  0.984375      1\n2  0.993711  0.006289      0\n3  0.777778  0.222222      0\n4  0.015625  0.984375      1\n5  0.993711  0.006289      0\n6  0.015625  0.984375      1\n7  0.015625  0.984375      1\n8  0.015625  0.984375      1\n9  0.015625  0.984375      1",
      "text/html": "<div>\n<style scoped>\n    .dataframe tbody tr th:only-of-type {\n        vertical-align: middle;\n    }\n\n    .dataframe tbody tr th {\n        vertical-align: top;\n    }\n\n    .dataframe thead th {\n        text-align: right;\n    }\n</style>\n<table border=\"1\" class=\"dataframe\">\n  <thead>\n    <tr style=\"text-align: right;\">\n      <th></th>\n      <th>prob 0</th>\n      <th>prob 1</th>\n      <th>class</th>\n    </tr>\n  </thead>\n  <tbody>\n    <tr>\n      <th>0</th>\n      <td>0.015625</td>\n      <td>0.984375</td>\n      <td>1</td>\n    </tr>\n    <tr>\n      <th>1</th>\n      <td>0.015625</td>\n      <td>0.984375</td>\n      <td>1</td>\n    </tr>\n    <tr>\n      <th>2</th>\n      <td>0.993711</td>\n      <td>0.006289</td>\n      <td>0</td>\n    </tr>\n    <tr>\n      <th>3</th>\n      <td>0.777778</td>\n      <td>0.222222</td>\n      <td>0</td>\n    </tr>\n    <tr>\n      <th>4</th>\n      <td>0.015625</td>\n      <td>0.984375</td>\n      <td>1</td>\n    </tr>\n    <tr>\n      <th>5</th>\n      <td>0.993711</td>\n      <td>0.006289</td>\n      <td>0</td>\n    </tr>\n    <tr>\n      <th>6</th>\n      <td>0.015625</td>\n      <td>0.984375</td>\n      <td>1</td>\n    </tr>\n    <tr>\n      <th>7</th>\n      <td>0.015625</td>\n      <td>0.984375</td>\n      <td>1</td>\n    </tr>\n    <tr>\n      <th>8</th>\n      <td>0.015625</td>\n      <td>0.984375</td>\n      <td>1</td>\n    </tr>\n    <tr>\n      <th>9</th>\n      <td>0.015625</td>\n      <td>0.984375</td>\n      <td>1</td>\n    </tr>\n  </tbody>\n</table>\n</div>"
     },
     "execution_count": 53,
     "metadata": {},
     "output_type": "execute_result"
    }
   ],
   "source": [
    "model = gs.best_estimator_\n",
    "model.fit(X_train, y)\n",
    "pred_proba = pd.DataFrame(model.predict_proba(X_test_scaler), columns=['prob 0', 'prob 1'])\n",
    "pred = model.predict(X_test_scaler)\n",
    "pred_proba['class'] = pred\n",
    "pred_proba"
   ],
   "metadata": {
    "collapsed": false,
    "ExecuteTime": {
     "end_time": "2023-05-11T11:17:49.100113700Z",
     "start_time": "2023-05-11T11:17:49.080101Z"
    }
   }
  },
  {
   "cell_type": "markdown",
   "source": [
    "В проверочной системе Stepik ОШИБКА! Имейте это ввиду. Мы решили правильно!"
   ],
   "metadata": {
    "collapsed": false
   }
  },
  {
   "cell_type": "markdown",
   "source": [
    "# Одно из возможных решений!"
   ],
   "metadata": {
    "collapsed": false
   }
  },
  {
   "cell_type": "code",
   "execution_count": 82,
   "outputs": [
    {
     "name": "stdout",
     "output_type": "stream",
     "text": [
      "[1 1 0 1 1 1 0 1 0 1]\n"
     ]
    }
   ],
   "source": [
    "import numpy as np\n",
    "from sklearn.tree import DecisionTreeClassifier\n",
    "import pandas as pd\n",
    "\n",
    "data = np.load('content/train_data.npz')\n",
    "\n",
    "x = pd.DataFrame(data[\"x\"])\n",
    "y = pd.DataFrame(data[\"y\"])\n",
    "\n",
    "x_test = pd.DataFrame(data[\"x_test\"])\n",
    "\n",
    "correlation = 0.9\n",
    "df = x[x.corr() > correlation].fillna(0)\n",
    "df_test = x_test[x_test.corr() > correlation].fillna(0)\n",
    "\n",
    "classifier = DecisionTreeClassifier()\n",
    "classifier.fit(df, y)\n",
    "\n",
    "y_pred = classifier.predict(df_test)\n",
    "\n",
    "print(y_pred)"
   ],
   "metadata": {
    "collapsed": false,
    "ExecuteTime": {
     "end_time": "2023-05-11T11:49:55.717537300Z",
     "start_time": "2023-05-11T11:49:55.677538700Z"
    }
   }
  },
  {
   "cell_type": "code",
   "execution_count": 84,
   "outputs": [],
   "source": [
    "from sklearn.ensemble import GradientBoostingClassifier"
   ],
   "metadata": {
    "collapsed": false,
    "ExecuteTime": {
     "end_time": "2023-05-11T11:55:20.319579900Z",
     "start_time": "2023-05-11T11:55:20.046012600Z"
    }
   }
  },
  {
   "cell_type": "code",
   "execution_count": 93,
   "outputs": [
    {
     "name": "stdout",
     "output_type": "stream",
     "text": [
      "Fitting 3 folds for each of 60 candidates, totalling 180 fits\n",
      "[CV] END .......................max_depth=2, n_estimators=10; total time=   0.0s\n",
      "[CV] END .......................max_depth=2, n_estimators=10; total time=   0.0s\n",
      "[CV] END .......................max_depth=2, n_estimators=10; total time=   0.0s\n",
      "[CV] END .......................max_depth=2, n_estimators=30; total time=   0.0s\n",
      "[CV] END .......................max_depth=2, n_estimators=30; total time=   0.0s\n",
      "[CV] END .......................max_depth=2, n_estimators=30; total time=   0.0s\n",
      "[CV] END .......................max_depth=2, n_estimators=50; total time=   0.0s\n",
      "[CV] END .......................max_depth=2, n_estimators=50; total time=   0.1s\n",
      "[CV] END .......................max_depth=2, n_estimators=50; total time=   0.0s\n",
      "[CV] END .......................max_depth=2, n_estimators=70; total time=   0.1s\n",
      "[CV] END .......................max_depth=2, n_estimators=70; total time=   0.0s\n",
      "[CV] END .......................max_depth=2, n_estimators=70; total time=   0.0s\n",
      "[CV] END .......................max_depth=2, n_estimators=90; total time=   0.1s\n",
      "[CV] END .......................max_depth=2, n_estimators=90; total time=   0.1s\n",
      "[CV] END .......................max_depth=2, n_estimators=90; total time=   0.1s\n",
      "[CV] END ......................max_depth=2, n_estimators=110; total time=   0.2s\n",
      "[CV] END ......................max_depth=2, n_estimators=110; total time=   0.3s\n",
      "[CV] END ......................max_depth=2, n_estimators=110; total time=   0.2s\n",
      "[CV] END ......................max_depth=2, n_estimators=130; total time=   0.1s\n",
      "[CV] END ......................max_depth=2, n_estimators=130; total time=   0.1s\n",
      "[CV] END ......................max_depth=2, n_estimators=130; total time=   0.1s\n",
      "[CV] END ......................max_depth=2, n_estimators=150; total time=   0.2s\n",
      "[CV] END ......................max_depth=2, n_estimators=150; total time=   0.2s\n",
      "[CV] END ......................max_depth=2, n_estimators=150; total time=   0.2s\n",
      "[CV] END ......................max_depth=2, n_estimators=170; total time=   0.2s\n",
      "[CV] END ......................max_depth=2, n_estimators=170; total time=   0.2s\n",
      "[CV] END ......................max_depth=2, n_estimators=170; total time=   0.2s\n",
      "[CV] END ......................max_depth=2, n_estimators=190; total time=   0.3s\n",
      "[CV] END ......................max_depth=2, n_estimators=190; total time=   0.5s\n",
      "[CV] END ......................max_depth=2, n_estimators=190; total time=   0.4s\n",
      "[CV] END .......................max_depth=5, n_estimators=10; total time=   0.0s\n",
      "[CV] END .......................max_depth=5, n_estimators=10; total time=   0.0s\n",
      "[CV] END .......................max_depth=5, n_estimators=10; total time=   0.1s\n",
      "[CV] END .......................max_depth=5, n_estimators=30; total time=   0.1s\n",
      "[CV] END .......................max_depth=5, n_estimators=30; total time=   0.0s\n",
      "[CV] END .......................max_depth=5, n_estimators=30; total time=   0.0s\n",
      "[CV] END .......................max_depth=5, n_estimators=50; total time=   0.1s\n",
      "[CV] END .......................max_depth=5, n_estimators=50; total time=   0.1s\n",
      "[CV] END .......................max_depth=5, n_estimators=50; total time=   0.1s\n",
      "[CV] END .......................max_depth=5, n_estimators=70; total time=   0.2s\n",
      "[CV] END .......................max_depth=5, n_estimators=70; total time=   0.2s\n",
      "[CV] END .......................max_depth=5, n_estimators=70; total time=   0.2s\n",
      "[CV] END .......................max_depth=5, n_estimators=90; total time=   0.3s\n",
      "[CV] END .......................max_depth=5, n_estimators=90; total time=   0.3s\n",
      "[CV] END .......................max_depth=5, n_estimators=90; total time=   0.5s\n",
      "[CV] END ......................max_depth=5, n_estimators=110; total time=   0.6s\n",
      "[CV] END ......................max_depth=5, n_estimators=110; total time=   0.4s\n",
      "[CV] END ......................max_depth=5, n_estimators=110; total time=   0.4s\n",
      "[CV] END ......................max_depth=5, n_estimators=130; total time=   0.4s\n",
      "[CV] END ......................max_depth=5, n_estimators=130; total time=   0.5s\n",
      "[CV] END ......................max_depth=5, n_estimators=130; total time=   0.4s\n",
      "[CV] END ......................max_depth=5, n_estimators=150; total time=   0.5s\n",
      "[CV] END ......................max_depth=5, n_estimators=150; total time=   0.5s\n",
      "[CV] END ......................max_depth=5, n_estimators=150; total time=   0.6s\n",
      "[CV] END ......................max_depth=5, n_estimators=170; total time=   0.8s\n",
      "[CV] END ......................max_depth=5, n_estimators=170; total time=   0.5s\n",
      "[CV] END ......................max_depth=5, n_estimators=170; total time=   0.6s\n",
      "[CV] END ......................max_depth=5, n_estimators=190; total time=   0.6s\n",
      "[CV] END ......................max_depth=5, n_estimators=190; total time=   0.6s\n",
      "[CV] END ......................max_depth=5, n_estimators=190; total time=   0.8s\n",
      "[CV] END .......................max_depth=8, n_estimators=10; total time=   0.0s\n",
      "[CV] END .......................max_depth=8, n_estimators=10; total time=   0.0s\n",
      "[CV] END .......................max_depth=8, n_estimators=10; total time=   0.0s\n",
      "[CV] END .......................max_depth=8, n_estimators=30; total time=   0.0s\n",
      "[CV] END .......................max_depth=8, n_estimators=30; total time=   0.0s\n",
      "[CV] END .......................max_depth=8, n_estimators=30; total time=   0.0s\n",
      "[CV] END .......................max_depth=8, n_estimators=50; total time=   0.1s\n",
      "[CV] END .......................max_depth=8, n_estimators=50; total time=   0.1s\n",
      "[CV] END .......................max_depth=8, n_estimators=50; total time=   0.1s\n",
      "[CV] END .......................max_depth=8, n_estimators=70; total time=   0.3s\n",
      "[CV] END .......................max_depth=8, n_estimators=70; total time=   0.3s\n",
      "[CV] END .......................max_depth=8, n_estimators=70; total time=   0.3s\n",
      "[CV] END .......................max_depth=8, n_estimators=90; total time=   0.4s\n",
      "[CV] END .......................max_depth=8, n_estimators=90; total time=   0.3s\n",
      "[CV] END .......................max_depth=8, n_estimators=90; total time=   0.4s\n",
      "[CV] END ......................max_depth=8, n_estimators=110; total time=   0.5s\n",
      "[CV] END ......................max_depth=8, n_estimators=110; total time=   0.3s\n",
      "[CV] END ......................max_depth=8, n_estimators=110; total time=   0.4s\n",
      "[CV] END ......................max_depth=8, n_estimators=130; total time=   0.5s\n",
      "[CV] END ......................max_depth=8, n_estimators=130; total time=   0.4s\n",
      "[CV] END ......................max_depth=8, n_estimators=130; total time=   0.5s\n",
      "[CV] END ......................max_depth=8, n_estimators=150; total time=   0.5s\n",
      "[CV] END ......................max_depth=8, n_estimators=150; total time=   0.5s\n",
      "[CV] END ......................max_depth=8, n_estimators=150; total time=   0.6s\n",
      "[CV] END ......................max_depth=8, n_estimators=170; total time=   0.6s\n",
      "[CV] END ......................max_depth=8, n_estimators=170; total time=   0.5s\n",
      "[CV] END ......................max_depth=8, n_estimators=170; total time=   0.6s\n",
      "[CV] END ......................max_depth=8, n_estimators=190; total time=   0.6s\n",
      "[CV] END ......................max_depth=8, n_estimators=190; total time=   0.5s\n",
      "[CV] END ......................max_depth=8, n_estimators=190; total time=   0.7s\n",
      "[CV] END ......................max_depth=11, n_estimators=10; total time=   0.0s\n",
      "[CV] END ......................max_depth=11, n_estimators=10; total time=   0.0s\n",
      "[CV] END ......................max_depth=11, n_estimators=10; total time=   0.0s\n",
      "[CV] END ......................max_depth=11, n_estimators=30; total time=   0.0s\n",
      "[CV] END ......................max_depth=11, n_estimators=30; total time=   0.0s\n",
      "[CV] END ......................max_depth=11, n_estimators=30; total time=   0.0s\n",
      "[CV] END ......................max_depth=11, n_estimators=50; total time=   0.2s\n",
      "[CV] END ......................max_depth=11, n_estimators=50; total time=   0.2s\n",
      "[CV] END ......................max_depth=11, n_estimators=50; total time=   0.1s\n",
      "[CV] END ......................max_depth=11, n_estimators=70; total time=   0.2s\n",
      "[CV] END ......................max_depth=11, n_estimators=70; total time=   0.2s\n",
      "[CV] END ......................max_depth=11, n_estimators=70; total time=   0.2s\n",
      "[CV] END ......................max_depth=11, n_estimators=90; total time=   0.3s\n",
      "[CV] END ......................max_depth=11, n_estimators=90; total time=   0.2s\n",
      "[CV] END ......................max_depth=11, n_estimators=90; total time=   0.3s\n",
      "[CV] END .....................max_depth=11, n_estimators=110; total time=   0.4s\n",
      "[CV] END .....................max_depth=11, n_estimators=110; total time=   0.4s\n",
      "[CV] END .....................max_depth=11, n_estimators=110; total time=   0.4s\n",
      "[CV] END .....................max_depth=11, n_estimators=130; total time=   0.5s\n",
      "[CV] END .....................max_depth=11, n_estimators=130; total time=   0.4s\n",
      "[CV] END .....................max_depth=11, n_estimators=130; total time=   0.4s\n",
      "[CV] END .....................max_depth=11, n_estimators=150; total time=   0.5s\n",
      "[CV] END .....................max_depth=11, n_estimators=150; total time=   0.5s\n",
      "[CV] END .....................max_depth=11, n_estimators=150; total time=   0.6s\n",
      "[CV] END .....................max_depth=11, n_estimators=170; total time=   0.6s\n",
      "[CV] END .....................max_depth=11, n_estimators=170; total time=   0.5s\n",
      "[CV] END .....................max_depth=11, n_estimators=170; total time=   0.6s\n",
      "[CV] END .....................max_depth=11, n_estimators=190; total time=   0.6s\n",
      "[CV] END .....................max_depth=11, n_estimators=190; total time=   0.5s\n",
      "[CV] END .....................max_depth=11, n_estimators=190; total time=   0.6s\n",
      "[CV] END ......................max_depth=14, n_estimators=10; total time=   0.0s\n",
      "[CV] END ......................max_depth=14, n_estimators=10; total time=   0.0s\n",
      "[CV] END ......................max_depth=14, n_estimators=10; total time=   0.0s\n",
      "[CV] END ......................max_depth=14, n_estimators=30; total time=   0.0s\n",
      "[CV] END ......................max_depth=14, n_estimators=30; total time=   0.0s\n",
      "[CV] END ......................max_depth=14, n_estimators=30; total time=   0.0s\n",
      "[CV] END ......................max_depth=14, n_estimators=50; total time=   0.1s\n",
      "[CV] END ......................max_depth=14, n_estimators=50; total time=   0.1s\n",
      "[CV] END ......................max_depth=14, n_estimators=50; total time=   0.1s\n",
      "[CV] END ......................max_depth=14, n_estimators=70; total time=   0.2s\n",
      "[CV] END ......................max_depth=14, n_estimators=70; total time=   0.2s\n",
      "[CV] END ......................max_depth=14, n_estimators=70; total time=   0.3s\n",
      "[CV] END ......................max_depth=14, n_estimators=90; total time=   0.3s\n",
      "[CV] END ......................max_depth=14, n_estimators=90; total time=   0.3s\n",
      "[CV] END ......................max_depth=14, n_estimators=90; total time=   0.3s\n",
      "[CV] END .....................max_depth=14, n_estimators=110; total time=   0.4s\n",
      "[CV] END .....................max_depth=14, n_estimators=110; total time=   0.3s\n",
      "[CV] END .....................max_depth=14, n_estimators=110; total time=   0.3s\n",
      "[CV] END .....................max_depth=14, n_estimators=130; total time=   0.5s\n",
      "[CV] END .....................max_depth=14, n_estimators=130; total time=   0.5s\n",
      "[CV] END .....................max_depth=14, n_estimators=130; total time=   0.5s\n",
      "[CV] END .....................max_depth=14, n_estimators=150; total time=   0.6s\n",
      "[CV] END .....................max_depth=14, n_estimators=150; total time=   0.5s\n",
      "[CV] END .....................max_depth=14, n_estimators=150; total time=   0.5s\n",
      "[CV] END .....................max_depth=14, n_estimators=170; total time=   0.6s\n",
      "[CV] END .....................max_depth=14, n_estimators=170; total time=   0.6s\n",
      "[CV] END .....................max_depth=14, n_estimators=170; total time=   0.6s\n",
      "[CV] END .....................max_depth=14, n_estimators=190; total time=   0.6s\n",
      "[CV] END .....................max_depth=14, n_estimators=190; total time=   0.6s\n",
      "[CV] END .....................max_depth=14, n_estimators=190; total time=   0.7s\n",
      "[CV] END ......................max_depth=17, n_estimators=10; total time=   0.0s\n",
      "[CV] END ......................max_depth=17, n_estimators=10; total time=   0.0s\n",
      "[CV] END ......................max_depth=17, n_estimators=10; total time=   0.0s\n",
      "[CV] END ......................max_depth=17, n_estimators=30; total time=   0.0s\n",
      "[CV] END ......................max_depth=17, n_estimators=30; total time=   0.0s\n",
      "[CV] END ......................max_depth=17, n_estimators=30; total time=   0.0s\n",
      "[CV] END ......................max_depth=17, n_estimators=50; total time=   0.1s\n",
      "[CV] END ......................max_depth=17, n_estimators=50; total time=   0.1s\n",
      "[CV] END ......................max_depth=17, n_estimators=50; total time=   0.1s\n",
      "[CV] END ......................max_depth=17, n_estimators=70; total time=   0.2s\n",
      "[CV] END ......................max_depth=17, n_estimators=70; total time=   0.2s\n",
      "[CV] END ......................max_depth=17, n_estimators=70; total time=   0.2s\n",
      "[CV] END ......................max_depth=17, n_estimators=90; total time=   0.3s\n",
      "[CV] END ......................max_depth=17, n_estimators=90; total time=   0.2s\n",
      "[CV] END ......................max_depth=17, n_estimators=90; total time=   0.3s\n",
      "[CV] END .....................max_depth=17, n_estimators=110; total time=   0.4s\n",
      "[CV] END .....................max_depth=17, n_estimators=110; total time=   0.3s\n",
      "[CV] END .....................max_depth=17, n_estimators=110; total time=   0.4s\n",
      "[CV] END .....................max_depth=17, n_estimators=130; total time=   0.5s\n",
      "[CV] END .....................max_depth=17, n_estimators=130; total time=   0.4s\n",
      "[CV] END .....................max_depth=17, n_estimators=130; total time=   0.4s\n",
      "[CV] END .....................max_depth=17, n_estimators=150; total time=   0.5s\n",
      "[CV] END .....................max_depth=17, n_estimators=150; total time=   0.5s\n",
      "[CV] END .....................max_depth=17, n_estimators=150; total time=   0.5s\n",
      "[CV] END .....................max_depth=17, n_estimators=170; total time=   0.6s\n",
      "[CV] END .....................max_depth=17, n_estimators=170; total time=   0.5s\n",
      "[CV] END .....................max_depth=17, n_estimators=170; total time=   0.6s\n",
      "[CV] END .....................max_depth=17, n_estimators=190; total time=   0.6s\n",
      "[CV] END .....................max_depth=17, n_estimators=190; total time=   0.6s\n",
      "[CV] END .....................max_depth=17, n_estimators=190; total time=   0.6s\n"
     ]
    },
    {
     "data": {
      "text/plain": "(0.9921182266009853, GradientBoostingClassifier(max_depth=2, n_estimators=150))"
     },
     "execution_count": 93,
     "metadata": {},
     "output_type": "execute_result"
    }
   ],
   "source": [
    "params = {'n_estimators': np.arange(10, 200, 20),\n",
    "          'max_depth': np.arange(2, 20, 3)\n",
    "          }\n",
    "gs = GridSearchCV(GradientBoostingClassifier(), params, cv=3, scoring='roc_auc', verbose=2)\n",
    "gs.fit(X, y)\n",
    "gs.best_score_, gs.best_estimator_"
   ],
   "metadata": {
    "collapsed": false,
    "ExecuteTime": {
     "end_time": "2023-05-11T11:58:59.637126800Z",
     "start_time": "2023-05-11T11:57:48.700519500Z"
    }
   }
  },
  {
   "cell_type": "code",
   "execution_count": 101,
   "outputs": [
    {
     "name": "stdout",
     "output_type": "stream",
     "text": [
      "[1 1 0 1 1 0 1 1 1 1]\n"
     ]
    }
   ],
   "source": [
    "model = GradientBoostingClassifier(n_estimators=1500, max_depth=2, learning_rate=0.01)\n",
    "model.fit(X, y)\n",
    "pred = model.predict(X_test)\n",
    "print(pred)"
   ],
   "metadata": {
    "collapsed": false,
    "ExecuteTime": {
     "end_time": "2023-05-11T12:07:30.771645Z",
     "start_time": "2023-05-11T12:07:26.174303900Z"
    }
   }
  }
 ],
 "metadata": {
  "kernelspec": {
   "display_name": "Python 3",
   "language": "python",
   "name": "python3"
  },
  "language_info": {
   "codemirror_mode": {
    "name": "ipython",
    "version": 2
   },
   "file_extension": ".py",
   "mimetype": "text/x-python",
   "name": "python",
   "nbconvert_exporter": "python",
   "pygments_lexer": "ipython2",
   "version": "2.7.6"
  }
 },
 "nbformat": 4,
 "nbformat_minor": 0
}
