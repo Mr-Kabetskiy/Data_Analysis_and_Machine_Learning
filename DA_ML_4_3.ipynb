{
 "cells": [
  {
   "cell_type": "code",
   "execution_count": 2,
   "outputs": [],
   "source": [
    "import numpy as np\n",
    "from sklearn.metrics import accuracy_score, precision_score, recall_score, f1_score"
   ],
   "metadata": {
    "collapsed": false,
    "ExecuteTime": {
     "end_time": "2023-05-04T12:24:11.629263600Z",
     "start_time": "2023-05-04T12:24:08.848580200Z"
    }
   }
  },
  {
   "cell_type": "markdown",
   "source": [
    "#### В файле даны предсказания модели (y_pred), а также реальные данные (y_true).\n",
    "4.3.1 Ваша задача по двум массивам оценить accuracy модели, ответ укажите в процентах.\n",
    "4.3.2 Ваша задача по двум массивам оценить precision модели.\n",
    "4.3.3 Ваша задача по двум массивам оценить recall модели.\n",
    "4.3.4 Ваша задача по двум массивам оценить f1-score модели."
   ],
   "metadata": {
    "collapsed": false
   }
  },
  {
   "cell_type": "code",
   "execution_count": 3,
   "outputs": [],
   "source": [
    "data = np.load('content/predictions.npz')\n",
    "y_pred = data['y_pred']\n",
    "y_true = data['y_true']"
   ],
   "metadata": {
    "collapsed": false,
    "ExecuteTime": {
     "end_time": "2023-05-04T12:25:50.750834Z",
     "start_time": "2023-05-04T12:25:50.720834900Z"
    }
   }
  },
  {
   "cell_type": "code",
   "execution_count": 10,
   "outputs": [
    {
     "name": "stdout",
     "output_type": "stream",
     "text": [
      "accuracy = 89.4\n",
      "precision = 89.4\n",
      "recall = 100.0\n",
      "f1 = 94.40337909186906\n"
     ]
    }
   ],
   "source": [
    "print(f'accuracy = {accuracy_score(y_true, y_pred) * 100}')\n",
    "print(f'precision = {precision_score(y_true, y_pred) * 100}')\n",
    "print(f'recall = {recall_score(y_true, y_pred) * 100}')\n",
    "print(f'f1 = {f1_score(y_true, y_pred) * 100}')"
   ],
   "metadata": {
    "collapsed": false,
    "ExecuteTime": {
     "end_time": "2023-05-04T12:37:16.980353700Z",
     "start_time": "2023-05-04T12:37:16.960301600Z"
    }
   }
  }
 ],
 "metadata": {
  "kernelspec": {
   "display_name": "Python 3",
   "language": "python",
   "name": "python3"
  },
  "language_info": {
   "codemirror_mode": {
    "name": "ipython",
    "version": 2
   },
   "file_extension": ".py",
   "mimetype": "text/x-python",
   "name": "python",
   "nbconvert_exporter": "python",
   "pygments_lexer": "ipython2",
   "version": "2.7.6"
  }
 },
 "nbformat": 4,
 "nbformat_minor": 0
}
