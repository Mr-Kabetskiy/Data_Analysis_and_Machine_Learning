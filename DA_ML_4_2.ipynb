{
 "cells": [
  {
   "cell_type": "markdown",
   "source": [
    "# Задачи регрессии. Линейная регрессия 2"
   ],
   "metadata": {
    "collapsed": false
   }
  },
  {
   "cell_type": "code",
   "execution_count": 1,
   "metadata": {
    "collapsed": true,
    "ExecuteTime": {
     "end_time": "2023-05-04T10:22:50.483315400Z",
     "start_time": "2023-05-04T10:22:43.092325900Z"
    }
   },
   "outputs": [],
   "source": [
    "import numpy as np\n",
    "import pandas as pd\n",
    "from sklearn.linear_model import LinearRegression"
   ]
  },
  {
   "cell_type": "markdown",
   "source": [
    "#### 4.2.1 В файле даны значения x, y\n",
    "Ваша задача найти коэффициенты a1, a2, a3 округлить их до ближайшего целого и записать через пробел"
   ],
   "metadata": {
    "collapsed": false
   }
  },
  {
   "cell_type": "code",
   "execution_count": 2,
   "outputs": [],
   "source": [
    "data = np.load('content/data.npz')"
   ],
   "metadata": {
    "collapsed": false,
    "ExecuteTime": {
     "end_time": "2023-05-04T10:22:59.035446400Z",
     "start_time": "2023-05-04T10:22:59.005448300Z"
    }
   }
  },
  {
   "cell_type": "code",
   "execution_count": 23,
   "outputs": [],
   "source": [
    "X = pd.DataFrame(data['x'], columns=['x'])\n",
    "y = pd.DataFrame(data['y'], columns=['y'])"
   ],
   "metadata": {
    "collapsed": false,
    "ExecuteTime": {
     "end_time": "2023-05-04T10:33:41.283224300Z",
     "start_time": "2023-05-04T10:33:41.263226Z"
    }
   }
  },
  {
   "cell_type": "code",
   "execution_count": 24,
   "outputs": [],
   "source": [
    "X['sin'] = np.sin(X['x'].values)\n",
    "X['cos'] = np.cos(X['x'].values)\n",
    "X.drop('x', axis=1, inplace=True)"
   ],
   "metadata": {
    "collapsed": false,
    "ExecuteTime": {
     "end_time": "2023-05-04T10:33:42.036319800Z",
     "start_time": "2023-05-04T10:33:42.016319600Z"
    }
   }
  },
  {
   "cell_type": "code",
   "execution_count": 28,
   "outputs": [],
   "source": [
    "model = LinearRegression()\n",
    "model.fit(X, y);"
   ],
   "metadata": {
    "collapsed": false,
    "ExecuteTime": {
     "end_time": "2023-05-04T10:42:09.177618100Z",
     "start_time": "2023-05-04T10:42:09.167607900Z"
    }
   }
  },
  {
   "cell_type": "code",
   "execution_count": 31,
   "outputs": [
    {
     "name": "stdout",
     "output_type": "stream",
     "text": [
      "a1 = 2.0, a2 = 2.0, a3 = 3.0\n"
     ]
    }
   ],
   "source": [
    "a1, a2 = np.round(*model.coef_)\n",
    "a3  = np.round(*model.intercept_)\n",
    "print(f'{a1 = }, {a2 = }, {a3 = }')"
   ],
   "metadata": {
    "collapsed": false,
    "ExecuteTime": {
     "end_time": "2023-05-04T10:43:19.772996900Z",
     "start_time": "2023-05-04T10:43:19.762033400Z"
    }
   }
  },
  {
   "cell_type": "markdown",
   "source": [
    "#### 4.2.2 В файле даны значения x, y\n",
    "Ваша задача найти коэффициенты a1, a2, a3, a4 округлить их до ближайшего целого и записать через пробел"
   ],
   "metadata": {
    "collapsed": false
   }
  },
  {
   "cell_type": "code",
   "execution_count": 32,
   "outputs": [],
   "source": [
    "data = np.load('content/task2.npz')"
   ],
   "metadata": {
    "collapsed": false,
    "ExecuteTime": {
     "end_time": "2023-05-04T10:46:10.055280200Z",
     "start_time": "2023-05-04T10:46:09.968669Z"
    }
   }
  },
  {
   "cell_type": "code",
   "execution_count": 41,
   "outputs": [],
   "source": [
    "X = pd.DataFrame(data['x'], columns=['x'])\n",
    "y = pd.DataFrame(data['y'], columns=['y'])"
   ],
   "metadata": {
    "collapsed": false,
    "ExecuteTime": {
     "end_time": "2023-05-04T10:50:06.638108900Z",
     "start_time": "2023-05-04T10:50:06.618101800Z"
    }
   }
  },
  {
   "cell_type": "code",
   "execution_count": 42,
   "outputs": [],
   "source": [
    "X['sin'] = np.sin(data['x'])\n",
    "X['x**2'] = data['x'] ** 2\n",
    "X = X[['sin', 'x', 'x**2']]"
   ],
   "metadata": {
    "collapsed": false,
    "ExecuteTime": {
     "end_time": "2023-05-04T10:50:07.140468300Z",
     "start_time": "2023-05-04T10:50:07.110467700Z"
    }
   }
  },
  {
   "cell_type": "code",
   "execution_count": 43,
   "outputs": [],
   "source": [
    "model = LinearRegression()\n",
    "model.fit(X, y);"
   ],
   "metadata": {
    "collapsed": false,
    "ExecuteTime": {
     "end_time": "2023-05-04T10:51:06.453814600Z",
     "start_time": "2023-05-04T10:51:06.425189Z"
    }
   }
  },
  {
   "cell_type": "code",
   "execution_count": 44,
   "outputs": [
    {
     "name": "stdout",
     "output_type": "stream",
     "text": [
      "a1 = 48.0, a2 = 2.0, a3 = 7.0, a4 = 250.0\n"
     ]
    }
   ],
   "source": [
    "a1, a2, a3 = np.round(*model.coef_)\n",
    "a4  = np.round(*model.intercept_)\n",
    "print(f'{a1 = }, {a2 = }, {a3 = }, {a4 = }')"
   ],
   "metadata": {
    "collapsed": false,
    "ExecuteTime": {
     "end_time": "2023-05-04T10:51:07.493225600Z",
     "start_time": "2023-05-04T10:51:07.483227300Z"
    }
   }
  },
  {
   "cell_type": "markdown",
   "source": [
    "#### 4.2.3 В файле даны значения x, y.\n",
    "Ваша задача построить модель регрессии и предсказать значения y для различных значений x. Предсказанные значения округлите до ближайшего целого\n",
    "(В задании не сказано, но необходимо построить модель ЛР по формуле из шага 4.2.2)"
   ],
   "metadata": {
    "collapsed": false
   }
  },
  {
   "cell_type": "code",
   "execution_count": 45,
   "outputs": [],
   "source": [
    "data = np.load('content/task3.npz')"
   ],
   "metadata": {
    "collapsed": false,
    "ExecuteTime": {
     "end_time": "2023-05-04T10:54:53.606154900Z",
     "start_time": "2023-05-04T10:54:53.576156500Z"
    }
   }
  },
  {
   "cell_type": "code",
   "execution_count": 55,
   "outputs": [],
   "source": [
    "X = pd.DataFrame(data['x'], columns=['x'])\n",
    "y = pd.DataFrame(data['y'], columns=['y'])\n",
    "X['sin'] = np.sin(data['x'])\n",
    "X['x**2'] = data['x'] ** 2\n",
    "X = X[['sin', 'x', 'x**2']]"
   ],
   "metadata": {
    "collapsed": false,
    "ExecuteTime": {
     "end_time": "2023-05-04T10:59:51.674290700Z",
     "start_time": "2023-05-04T10:59:51.656969400Z"
    }
   }
  },
  {
   "cell_type": "code",
   "execution_count": 56,
   "outputs": [],
   "source": [
    "model = LinearRegression()\n",
    "model.fit(X, y);"
   ],
   "metadata": {
    "collapsed": false,
    "ExecuteTime": {
     "end_time": "2023-05-04T10:59:54.263838100Z",
     "start_time": "2023-05-04T10:59:54.238262700Z"
    }
   }
  },
  {
   "cell_type": "code",
   "execution_count": 58,
   "outputs": [],
   "source": [
    "x = pd.Series([21, 22, 50, -20])\n",
    "X_test = pd.DataFrame(x, columns=['x'])\n",
    "X_test['sin'] = np.sin(x)\n",
    "X_test['x**2'] = x ** 2\n",
    "X_test = X_test[['sin', 'x', 'x**2']]"
   ],
   "metadata": {
    "collapsed": false,
    "ExecuteTime": {
     "end_time": "2023-05-04T11:02:48.471728900Z",
     "start_time": "2023-05-04T11:02:48.431736600Z"
    }
   }
  },
  {
   "cell_type": "code",
   "execution_count": 60,
   "outputs": [],
   "source": [
    "y_pred = model.predict(X_test)"
   ],
   "metadata": {
    "collapsed": false,
    "ExecuteTime": {
     "end_time": "2023-05-04T11:03:29.042152Z",
     "start_time": "2023-05-04T11:03:28.936657800Z"
    }
   }
  },
  {
   "cell_type": "code",
   "execution_count": 82,
   "outputs": [
    {
     "name": "stdout",
     "output_type": "stream",
     "text": [
      "   X_test      y\n",
      "0      21  163.0\n",
      "1      22  167.0\n",
      "2      50  724.0\n",
      "3     -20   53.0\n"
     ]
    }
   ],
   "source": [
    "print(pd.DataFrame({'X_test': X_test.x.values.tolist(), 'y': pd.Series(y_pred[:, 0]).values.round().tolist()}))"
   ],
   "metadata": {
    "collapsed": false,
    "ExecuteTime": {
     "end_time": "2023-05-04T11:09:55.518551200Z",
     "start_time": "2023-05-04T11:09:55.488554800Z"
    }
   }
  }
 ],
 "metadata": {
  "kernelspec": {
   "display_name": "Python 3",
   "language": "python",
   "name": "python3"
  },
  "language_info": {
   "codemirror_mode": {
    "name": "ipython",
    "version": 2
   },
   "file_extension": ".py",
   "mimetype": "text/x-python",
   "name": "python",
   "nbconvert_exporter": "python",
   "pygments_lexer": "ipython2",
   "version": "2.7.6"
  }
 },
 "nbformat": 4,
 "nbformat_minor": 0
}
