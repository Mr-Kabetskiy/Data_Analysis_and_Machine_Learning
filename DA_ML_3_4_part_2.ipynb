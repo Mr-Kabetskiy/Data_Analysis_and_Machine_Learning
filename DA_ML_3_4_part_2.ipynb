{
 "cells": [
  {
   "cell_type": "markdown",
   "source": [
    "# 3.4 Тестирование по Pandas. Вторая часть\n",
    "Во второй части тестирования работа будет с датасетом отзывов на приложения в App Store"
   ],
   "metadata": {
    "collapsed": false
   }
  },
  {
   "cell_type": "code",
   "execution_count": 1,
   "metadata": {
    "collapsed": true
   },
   "outputs": [],
   "source": [
    "import pandas as pd"
   ]
  },
  {
   "cell_type": "code",
   "execution_count": 2,
   "outputs": [
    {
     "data": {
      "text/plain": "                  date          userName                    title  rating  \\\n0  2017-09-08 11:58:17            Mika 👽  Dieser nervige Button 😂       5   \n1  2017-09-06 15:32:26            Bilux1                Super App       5   \n2  2021-01-08 22:31:30      Leberkasbepi                  Tschüss       1   \n3  2019-01-15 12:18:55          1an--na1   Gehört jzt zu facebook       1   \n4  2020-05-24 13:51:44  Bykslmddislnsvsj                        .       4   \n\n   isEdited                                             review  \\\n0     False  Sehr gute App, erfüllt Ihren Zweck. Finde so g...   \n1     False                            Bester Messenger Dienst   \n2     False  Wegen den neuen Richtlinien, werd ich WhatsApp...   \n3     False                      Furchtbare datenschutzpolitik   \n4     False  Wäre org wenn’s eine Abstimmungs-Funktion für ...   \n\n            crawled_at                                                url  \\\n0  2021-02-21 10:15:43  https://apps.apple.com/at/app/whatsapp-messeng...   \n1  2021-02-21 10:15:43  https://apps.apple.com/at/app/whatsapp-messeng...   \n2  2021-02-21 10:15:43  https://apps.apple.com/at/app/whatsapp-messeng...   \n3  2021-02-21 10:15:43  https://apps.apple.com/at/app/whatsapp-messeng...   \n4  2021-02-21 10:15:43  https://apps.apple.com/at/app/whatsapp-messeng...   \n\n      app_id country            app_name  \\\n0  310633997      at  whatsapp-messenger   \n1  310633997      at  whatsapp-messenger   \n2  310633997      at  whatsapp-messenger   \n3  310633997      at  whatsapp-messenger   \n4  310633997      at  whatsapp-messenger   \n\n                                    _id developerResponse  \n0  32f9ec7e-74de-578d-acf6-48d4182cae60               NaN  \n1  f89a85f6-437e-53f4-acd0-adda3ae5ab2e               NaN  \n2  65adfbd9-dbab-5ba8-8d40-d84dc7e8f515               NaN  \n3  da48ad1c-3977-5e9d-8d74-c84f62ec1830               NaN  \n4  eefd7e92-a6d2-55de-b14b-b00002fa8380               NaN  ",
      "text/html": "<div>\n<style scoped>\n    .dataframe tbody tr th:only-of-type {\n        vertical-align: middle;\n    }\n\n    .dataframe tbody tr th {\n        vertical-align: top;\n    }\n\n    .dataframe thead th {\n        text-align: right;\n    }\n</style>\n<table border=\"1\" class=\"dataframe\">\n  <thead>\n    <tr style=\"text-align: right;\">\n      <th></th>\n      <th>date</th>\n      <th>userName</th>\n      <th>title</th>\n      <th>rating</th>\n      <th>isEdited</th>\n      <th>review</th>\n      <th>crawled_at</th>\n      <th>url</th>\n      <th>app_id</th>\n      <th>country</th>\n      <th>app_name</th>\n      <th>_id</th>\n      <th>developerResponse</th>\n    </tr>\n  </thead>\n  <tbody>\n    <tr>\n      <th>0</th>\n      <td>2017-09-08 11:58:17</td>\n      <td>Mika 👽</td>\n      <td>Dieser nervige Button 😂</td>\n      <td>5</td>\n      <td>False</td>\n      <td>Sehr gute App, erfüllt Ihren Zweck. Finde so g...</td>\n      <td>2021-02-21 10:15:43</td>\n      <td>https://apps.apple.com/at/app/whatsapp-messeng...</td>\n      <td>310633997</td>\n      <td>at</td>\n      <td>whatsapp-messenger</td>\n      <td>32f9ec7e-74de-578d-acf6-48d4182cae60</td>\n      <td>NaN</td>\n    </tr>\n    <tr>\n      <th>1</th>\n      <td>2017-09-06 15:32:26</td>\n      <td>Bilux1</td>\n      <td>Super App</td>\n      <td>5</td>\n      <td>False</td>\n      <td>Bester Messenger Dienst</td>\n      <td>2021-02-21 10:15:43</td>\n      <td>https://apps.apple.com/at/app/whatsapp-messeng...</td>\n      <td>310633997</td>\n      <td>at</td>\n      <td>whatsapp-messenger</td>\n      <td>f89a85f6-437e-53f4-acd0-adda3ae5ab2e</td>\n      <td>NaN</td>\n    </tr>\n    <tr>\n      <th>2</th>\n      <td>2021-01-08 22:31:30</td>\n      <td>Leberkasbepi</td>\n      <td>Tschüss</td>\n      <td>1</td>\n      <td>False</td>\n      <td>Wegen den neuen Richtlinien, werd ich WhatsApp...</td>\n      <td>2021-02-21 10:15:43</td>\n      <td>https://apps.apple.com/at/app/whatsapp-messeng...</td>\n      <td>310633997</td>\n      <td>at</td>\n      <td>whatsapp-messenger</td>\n      <td>65adfbd9-dbab-5ba8-8d40-d84dc7e8f515</td>\n      <td>NaN</td>\n    </tr>\n    <tr>\n      <th>3</th>\n      <td>2019-01-15 12:18:55</td>\n      <td>1an--na1</td>\n      <td>Gehört jzt zu facebook</td>\n      <td>1</td>\n      <td>False</td>\n      <td>Furchtbare datenschutzpolitik</td>\n      <td>2021-02-21 10:15:43</td>\n      <td>https://apps.apple.com/at/app/whatsapp-messeng...</td>\n      <td>310633997</td>\n      <td>at</td>\n      <td>whatsapp-messenger</td>\n      <td>da48ad1c-3977-5e9d-8d74-c84f62ec1830</td>\n      <td>NaN</td>\n    </tr>\n    <tr>\n      <th>4</th>\n      <td>2020-05-24 13:51:44</td>\n      <td>Bykslmddislnsvsj</td>\n      <td>.</td>\n      <td>4</td>\n      <td>False</td>\n      <td>Wäre org wenn’s eine Abstimmungs-Funktion für ...</td>\n      <td>2021-02-21 10:15:43</td>\n      <td>https://apps.apple.com/at/app/whatsapp-messeng...</td>\n      <td>310633997</td>\n      <td>at</td>\n      <td>whatsapp-messenger</td>\n      <td>eefd7e92-a6d2-55de-b14b-b00002fa8380</td>\n      <td>NaN</td>\n    </tr>\n  </tbody>\n</table>\n</div>"
     },
     "execution_count": 2,
     "metadata": {},
     "output_type": "execute_result"
    }
   ],
   "source": [
    "df = pd.read_csv('./content/app_store_reviews.txt')\n",
    "df.head()"
   ],
   "metadata": {
    "collapsed": false
   }
  },
  {
   "cell_type": "markdown",
   "source": [
    "### 3.4.1 В файле есть колонка с пропусками, напишите ее название"
   ],
   "metadata": {
    "collapsed": false
   }
  },
  {
   "cell_type": "code",
   "execution_count": 9,
   "outputs": [
    {
     "data": {
      "text/plain": "'developerResponse'"
     },
     "execution_count": 9,
     "metadata": {},
     "output_type": "execute_result"
    }
   ],
   "source": [
    "df.isna().sum().idxmax()"
   ],
   "metadata": {
    "collapsed": false
   }
  },
  {
   "cell_type": "markdown",
   "source": [
    "### 3.4.2 Определите кол-во пятерок для приложения whatsapp-messenger"
   ],
   "metadata": {
    "collapsed": false
   }
  },
  {
   "cell_type": "code",
   "execution_count": 13,
   "outputs": [
    {
     "data": {
      "text/plain": "4504"
     },
     "execution_count": 13,
     "metadata": {},
     "output_type": "execute_result"
    }
   ],
   "source": [
    "df.query('app_name == \"whatsapp-messenger\" and rating == 5')['rating'].count()"
   ],
   "metadata": {
    "collapsed": false
   }
  },
  {
   "cell_type": "markdown",
   "source": [
    "### 3.4.3 Посчитайте среднюю оценку для приложения talking-tom-cat-2"
   ],
   "metadata": {
    "collapsed": false
   }
  },
  {
   "cell_type": "code",
   "execution_count": 16,
   "outputs": [
    {
     "data": {
      "text/plain": "4.624"
     },
     "execution_count": 16,
     "metadata": {},
     "output_type": "execute_result"
    }
   ],
   "source": [
    "df.query('app_name == \"talking-tom-cat-2\"').rating.mean().round(3)"
   ],
   "metadata": {
    "collapsed": false
   }
  },
  {
   "cell_type": "markdown",
   "source": [
    "### 3.4.4 Определите кол-во непустых записей в столбце developerResponse"
   ],
   "metadata": {
    "collapsed": false
   }
  },
  {
   "cell_type": "code",
   "execution_count": 28,
   "outputs": [
    {
     "name": "stdout",
     "output_type": "stream",
     "text": [
      "<class 'pandas.core.frame.DataFrame'>\n",
      "RangeIndex: 10588 entries, 0 to 10587\n",
      "Data columns (total 13 columns):\n",
      " #   Column             Non-Null Count  Dtype \n",
      "---  ------             --------------  ----- \n",
      " 0   date               10588 non-null  object\n",
      " 1   userName           10588 non-null  object\n",
      " 2   title              10588 non-null  object\n",
      " 3   rating             10588 non-null  int64 \n",
      " 4   isEdited           10588 non-null  bool  \n",
      " 5   review             10588 non-null  object\n",
      " 6   crawled_at         10588 non-null  object\n",
      " 7   url                10588 non-null  object\n",
      " 8   app_id             10588 non-null  int64 \n",
      " 9   country            10588 non-null  object\n",
      " 10  app_name           10588 non-null  object\n",
      " 11  _id                10588 non-null  object\n",
      " 12  developerResponse  51 non-null     object\n",
      "dtypes: bool(1), int64(2), object(10)\n",
      "memory usage: 1003.1+ KB\n"
     ]
    }
   ],
   "source": [
    "df.info()"
   ],
   "metadata": {
    "collapsed": false
   }
  },
  {
   "cell_type": "markdown",
   "source": [
    "### 3.4.5 Определите приложение с наибольшей средней оценкой"
   ],
   "metadata": {
    "collapsed": false
   }
  },
  {
   "cell_type": "code",
   "execution_count": 29,
   "outputs": [
    {
     "data": {
      "text/plain": "app_name\ntalking-tom-cat-2     4.623683\nwhatsapp-messenger    3.614262\nName: rating, dtype: float64"
     },
     "execution_count": 29,
     "metadata": {},
     "output_type": "execute_result"
    }
   ],
   "source": [
    "df[['app_name', 'rating']].groupby('app_name')['rating'].mean().sort_values(ascending=False)"
   ],
   "metadata": {
    "collapsed": false
   }
  },
  {
   "cell_type": "markdown",
   "source": [
    "### 3.4.6 Найдите самый длинный отзыв и прикрепите его в качестве ответа. В качестве меры длины используете кол-во слов. Словом считайте все что отделено пробелом"
   ],
   "metadata": {
    "collapsed": false
   }
  },
  {
   "cell_type": "code",
   "execution_count": 49,
   "outputs": [
    {
     "data": {
      "text/plain": "'Noch nie habe ich eine App gehabt, die so viele Funktionen in sich vereint! Kostenlose Nachrichten, Videos, Standorte, Sprachnachrichten, und bald soll man auch VoIP nutzen können! Am meisten fasziniert mich jedoch eine Funktion, die mein Leben wesentlich erleichtert hat und die ich nie mehr missen möchte: Die Datenweiterleitungsfunktion! Ich brauche keine Wunschliste mehr an das Christkind zu senden, denn WhatsApp findet automatisch heraus, was ich mir wünsche und leitet es in Echtzeit weiter! Wenn ich einmal eine Telefonnummer nicht mehr weiß oder unabsichtlich gelöscht habe, dann ist WhatsApp der Retter in Not, denn es hat vorsorglich alle meine Telefonkontakte abgegriffen und auf speziell gesicherten Servern im Ausland gespeichert! Ich bin sogar überzeugt, dass WhatsApp dieses Service bald erweitert, und zukünftig auch von Fotos, Nachrichten und Sprachnachrichten eine verschlüsselte Datensicherung durchführt, um dem Nutzer immer helfen zu können, wenn mal etwas verloren geht! Angeblich speichert WhatsApp auch Standorte, um diesen im Notfall rasch an Rettungsorganisationen weitergeben zu können. Leider gibt es immer wieder Menschen, die Gerüchte verbreiten und behaupten, WhatsApp verwende alle diese gesammelten Daten, nur um viel Geld damit zu verdienen, das stimmt aber alles nicht! WhatsApp ist sehr seriös und missbraucht mit Sicherheit keine Daten, gerade nach dem Zusammenschluss mit Facebook kann man sich sehr sicher sein, dass mit den Daten sehr sorgsam umgegangen wird, bei Facebook wurde Datensicherheit ja immer sehr groß geschrieben und nie sowas verkauft, nur um Geld damit zu verdienen! Alles in Allem bin ich sehr zufrieden mit der App und würde mit wünschen, dass demnächst auch die Gesundheitsdaten gespeichert werden, ELGA ist mir nämlich zu unsicher, denn da liegen die Daten auf österr. Servern, man weiß ja schließlich nie, an wen die Regierung meine Daten weiterverkauft um den Budgetüberschuss noch einmal größer zu machen! Als ob wir hier zu wenig Geld hätten, das ist doch lächerlich! Wir sind schließlich das reichste Land der Welt ;-).'"
     },
     "execution_count": 49,
     "metadata": {},
     "output_type": "execute_result"
    }
   ],
   "source": [
    "sorted(df.review, key=lambda s: len(s.split()), reverse=True)[0]"
   ],
   "metadata": {
    "collapsed": false
   }
  },
  {
   "cell_type": "markdown",
   "source": [
    "### 3.4.7 Определите среднее кол-во слов в отзыве. Ответ округлите до целого"
   ],
   "metadata": {
    "collapsed": false
   }
  },
  {
   "cell_type": "code",
   "execution_count": 76,
   "outputs": [
    {
     "data": {
      "text/plain": "15.0"
     },
     "execution_count": 76,
     "metadata": {},
     "output_type": "execute_result"
    }
   ],
   "source": [
    "df['len_review'] = df.review.apply(lambda s: len(s.split()))\n",
    "df.len_review.mean().round(0)"
   ],
   "metadata": {
    "collapsed": false
   }
  },
  {
   "cell_type": "markdown",
   "source": [
    "### 3.4.8 Данные собирались в три шага, поэтому в колонке crawled_at три разных значения, напишите самую раннюю дату оттуда в формате: 2019-11-29"
   ],
   "metadata": {
    "collapsed": false
   }
  },
  {
   "cell_type": "code",
   "execution_count": 80,
   "outputs": [],
   "source": [
    "df.date = pd.to_datetime(df.date)\n",
    "df.crawled_at = pd.to_datetime(df.crawled_at)"
   ],
   "metadata": {
    "collapsed": false
   }
  },
  {
   "cell_type": "code",
   "execution_count": 86,
   "outputs": [
    {
     "data": {
      "text/plain": "'2021-02-20'"
     },
     "execution_count": 86,
     "metadata": {},
     "output_type": "execute_result"
    }
   ],
   "source": [
    "df.crawled_at.min().date().strftime('%Y-%m-%d')"
   ],
   "metadata": {
    "collapsed": false
   }
  },
  {
   "cell_type": "markdown",
   "source": [
    "### 3.4.9 На каком из этапов данных было собрано больше всего (колонка crawled_at)"
   ],
   "metadata": {
    "collapsed": false
   }
  },
  {
   "cell_type": "code",
   "execution_count": 88,
   "outputs": [
    {
     "data": {
      "text/plain": "Timestamp('2021-02-21 10:15:44')"
     },
     "execution_count": 88,
     "metadata": {},
     "output_type": "execute_result"
    }
   ],
   "source": [
    "df.crawled_at.value_counts().idxmax()"
   ],
   "metadata": {
    "collapsed": false
   }
  },
  {
   "cell_type": "markdown",
   "source": [
    "### 3.4.10 Определите медианную оценку для приложения talking-tom-cat-2"
   ],
   "metadata": {
    "collapsed": false
   }
  },
  {
   "cell_type": "code",
   "execution_count": 89,
   "outputs": [
    {
     "data": {
      "text/plain": "app_name\ntalking-tom-cat-2     5.0\nwhatsapp-messenger    5.0\nName: rating, dtype: float64"
     },
     "execution_count": 89,
     "metadata": {},
     "output_type": "execute_result"
    }
   ],
   "source": [
    "df[['app_name', 'rating']].groupby('app_name').rating.median()"
   ],
   "metadata": {
    "collapsed": false
   }
  }
 ],
 "metadata": {
  "kernelspec": {
   "display_name": "Python 3",
   "language": "python",
   "name": "python3"
  },
  "language_info": {
   "codemirror_mode": {
    "name": "ipython",
    "version": 2
   },
   "file_extension": ".py",
   "mimetype": "text/x-python",
   "name": "python",
   "nbconvert_exporter": "python",
   "pygments_lexer": "ipython2",
   "version": "2.7.6"
  }
 },
 "nbformat": 4,
 "nbformat_minor": 0
}
