{
 "cells": [
  {
   "cell_type": "markdown",
   "source": [
    "# 2.16 Pandas. Продолжаем работу с датами"
   ],
   "metadata": {
    "collapsed": false
   }
  },
  {
   "cell_type": "markdown",
   "source": [
    "## Датасет содержит данные о продажах в булочной.\n",
    "В каждой строчке содержится информация об отдельном купленном товаре.\n",
    "TransactionNo - номер покупки (может повторяться так как могли купить сразу несколько товаров)\n",
    "Items - товар, который был куплен\n",
    "DateTime - время покупки"
   ],
   "metadata": {
    "collapsed": false
   }
  },
  {
   "cell_type": "code",
   "execution_count": 1,
   "outputs": [],
   "source": [
    "import pandas as pd"
   ],
   "metadata": {
    "collapsed": false
   }
  },
  {
   "cell_type": "markdown",
   "source": [
    "2.16.1 По файлу определите кол-во видов товаров в булочной"
   ],
   "metadata": {
    "collapsed": false
   }
  },
  {
   "cell_type": "code",
   "execution_count": 2,
   "metadata": {
    "collapsed": true
   },
   "outputs": [],
   "source": [
    "df_bakery = pd.read_csv('./content/bakery.txt', parse_dates=['DateTime'])"
   ]
  },
  {
   "cell_type": "code",
   "execution_count": 4,
   "outputs": [
    {
     "data": {
      "text/plain": "94"
     },
     "execution_count": 4,
     "metadata": {},
     "output_type": "execute_result"
    }
   ],
   "source": [
    "df_bakery.Items.nunique()"
   ],
   "metadata": {
    "collapsed": false
   }
  },
  {
   "cell_type": "markdown",
   "source": [
    "2.16.2 По файлу определите сколько чая (Tea) было продано в булочной за все время"
   ],
   "metadata": {
    "collapsed": false
   }
  },
  {
   "cell_type": "code",
   "execution_count": 8,
   "outputs": [
    {
     "data": {
      "text/plain": "1435"
     },
     "execution_count": 8,
     "metadata": {},
     "output_type": "execute_result"
    }
   ],
   "source": [
    "df_bakery.query(\"Items == 'Tea'\").Items.count()"
   ],
   "metadata": {
    "collapsed": false
   }
  },
  {
   "cell_type": "markdown",
   "source": [
    "2.16.3 По файлу определите сколько покупок было совершено первого мая 2017 года.\n",
    "Кол-во покупок != кол-во строк.\n",
    "Кол-во покупок == Кол-во уникальных значений TransactionNo"
   ],
   "metadata": {
    "collapsed": false
   }
  },
  {
   "cell_type": "code",
   "execution_count": 20,
   "outputs": [],
   "source": [
    "ts = pd.Timestamp(2017, 5, 1)\n",
    "df_bakery['DateTime'] = pd.to_datetime(df_bakery.DateTime)"
   ],
   "metadata": {
    "collapsed": false
   }
  },
  {
   "cell_type": "code",
   "execution_count": 33,
   "outputs": [
    {
     "data": {
      "text/plain": "50"
     },
     "execution_count": 33,
     "metadata": {},
     "output_type": "execute_result"
    }
   ],
   "source": [
    "df_bakery[df_bakery.DateTime.dt.date == ts.date()].TransactionNo.nunique()"
   ],
   "metadata": {
    "collapsed": false
   }
  },
  {
   "cell_type": "markdown",
   "source": [
    "2.16.4 По файлу определите, сколько покупок было совершено в понедельники. Для этого:\n",
    "Преобразуйте колонку в тип datetime;\n",
    "Создайте новую колонку, в которой будет информация о том, являлся ли день покупки понедельником;\n",
    "Посчитайте кол-во уникальных значений в TransactionNo - это и будет кол-во покупок."
   ],
   "metadata": {
    "collapsed": false
   }
  },
  {
   "cell_type": "code",
   "execution_count": 41,
   "outputs": [
    {
     "data": {
      "text/plain": "1441"
     },
     "execution_count": 41,
     "metadata": {},
     "output_type": "execute_result"
    }
   ],
   "source": [
    "df_bakery['is_monday'] = df_bakery.DateTime.dt.day_name() == 'Monday'\n",
    "df_bakery.query('is_monday')['TransactionNo'].nunique()"
   ],
   "metadata": {
    "collapsed": false
   }
  },
  {
   "cell_type": "markdown",
   "source": [
    "2.16.5 По файлу определите, сколько покупок было совершено в выходные. Для этого:\n",
    "Преобразуйте колонку в тип datetime;\n",
    "Создайте новую колонку, в которой будет информация о том, являлся ли день покупки выходным;\n",
    "Посчитайте кол-во уникальных значений в TransactionNo - это и будет кол-во покупок."
   ],
   "metadata": {
    "collapsed": false
   }
  },
  {
   "cell_type": "code",
   "execution_count": 47,
   "outputs": [
    {
     "data": {
      "text/plain": "2962"
     },
     "execution_count": 47,
     "metadata": {},
     "output_type": "execute_result"
    }
   ],
   "source": [
    "df_bakery['is_weekend'] = df_bakery.DateTime.dt.dayofweek.isin([5, 6])\n",
    "df_bakery.query('is_weekend')['TransactionNo'].nunique()"
   ],
   "metadata": {
    "collapsed": false
   }
  },
  {
   "cell_type": "markdown",
   "source": [
    "2.16.6 По файлу определите, в какой месяц какого года совершилось наибольшее кол-во покупок (TransactionNo).\n",
    "Преобразуйте колонку в тип datetime и сделайте ее индексом датафрейма;\n",
    "Сделайте resample с периодичностью в 1 месяц;\n",
    "Посчитайте кол-во уникальных значений в TransactionNo - это и будет кол-во покупок в каждом месяце;\n",
    "Найдите в результате месяц где покупок больше всего.\n",
    "Ответ запишите в формате YYYY-MM."
   ],
   "metadata": {
    "collapsed": false
   }
  },
  {
   "cell_type": "code",
   "execution_count": 8,
   "outputs": [
    {
     "name": "stdout",
     "output_type": "stream",
     "text": [
      "<class 'pandas.core.frame.DataFrame'>\n",
      "RangeIndex: 20507 entries, 0 to 20506\n",
      "Data columns (total 3 columns):\n",
      " #   Column         Non-Null Count  Dtype         \n",
      "---  ------         --------------  -----         \n",
      " 0   TransactionNo  20507 non-null  int64         \n",
      " 1   Items          20507 non-null  object        \n",
      " 2   DateTime       20507 non-null  datetime64[ns]\n",
      "dtypes: datetime64[ns](1), int64(1), object(1)\n",
      "memory usage: 480.8+ KB\n"
     ]
    }
   ],
   "source": [
    "df_bakery.info()"
   ],
   "metadata": {
    "collapsed": false
   }
  },
  {
   "cell_type": "code",
   "execution_count": 21,
   "outputs": [
    {
     "name": "stdout",
     "output_type": "stream",
     "text": [
      "2017-03\n"
     ]
    }
   ],
   "source": [
    "t = df_bakery.set_index('DateTime').resample('1M').count()\n",
    "print(t['TransactionNo'].idxmax().strftime('%Y-%m'))"
   ],
   "metadata": {
    "collapsed": false
   }
  },
  {
   "cell_type": "markdown",
   "source": [
    "## Теперь более простой датасет. Содержит данные о поездках в такси в очень упрощенном виде."
   ],
   "metadata": {
    "collapsed": false
   }
  },
  {
   "cell_type": "markdown",
   "source": [
    "Для решения задач нужно будет произвести небольшую обработку.\n",
    "Сложить столбцы DATE и TIME просто через +. Чтобы получить полную строку с датой\n",
    "Новую колонку перевести в тип datetime через pd.to_datetime\n",
    "Результат записать в индекс датафрейма"
   ],
   "metadata": {
    "collapsed": false
   }
  },
  {
   "cell_type": "code",
   "execution_count": 29,
   "outputs": [
    {
     "data": {
      "text/plain": "       DATE         TIME                  PICK UP ADDRESS\n0  7/1/2014  12:00:00 AM    874 E 139th St Mott Haven, BX\n1  7/1/2014  12:01:00 AM    628 E 141st St Mott Haven, BX\n2  7/1/2014  12:01:00 AM   601 E 156th St South Bronx, BX\n3  7/1/2014  12:01:00 AM    708 E 138th St Mott Haven, BX\n4  7/1/2014  12:02:00 AM    700 E 140th St Mott Haven, BX",
      "text/html": "<div>\n<style scoped>\n    .dataframe tbody tr th:only-of-type {\n        vertical-align: middle;\n    }\n\n    .dataframe tbody tr th {\n        vertical-align: top;\n    }\n\n    .dataframe thead th {\n        text-align: right;\n    }\n</style>\n<table border=\"1\" class=\"dataframe\">\n  <thead>\n    <tr style=\"text-align: right;\">\n      <th></th>\n      <th>DATE</th>\n      <th>TIME</th>\n      <th>PICK UP ADDRESS</th>\n    </tr>\n  </thead>\n  <tbody>\n    <tr>\n      <th>0</th>\n      <td>7/1/2014</td>\n      <td>12:00:00 AM</td>\n      <td>874 E 139th St Mott Haven, BX</td>\n    </tr>\n    <tr>\n      <th>1</th>\n      <td>7/1/2014</td>\n      <td>12:01:00 AM</td>\n      <td>628 E 141st St Mott Haven, BX</td>\n    </tr>\n    <tr>\n      <th>2</th>\n      <td>7/1/2014</td>\n      <td>12:01:00 AM</td>\n      <td>601 E 156th St South Bronx, BX</td>\n    </tr>\n    <tr>\n      <th>3</th>\n      <td>7/1/2014</td>\n      <td>12:01:00 AM</td>\n      <td>708 E 138th St Mott Haven, BX</td>\n    </tr>\n    <tr>\n      <th>4</th>\n      <td>7/1/2014</td>\n      <td>12:02:00 AM</td>\n      <td>700 E 140th St Mott Haven, BX</td>\n    </tr>\n  </tbody>\n</table>\n</div>"
     },
     "execution_count": 29,
     "metadata": {},
     "output_type": "execute_result"
    }
   ],
   "source": [
    "df_uber = pd.read_csv('./content/uber.txt')\n",
    "df_uber.head()"
   ],
   "metadata": {
    "collapsed": false
   }
  },
  {
   "cell_type": "code",
   "execution_count": 106,
   "outputs": [],
   "source": [
    "df_uber = df_uber.set_index(pd.to_datetime(df_uber.DATE + ' ' + df_uber.TIME))"
   ],
   "metadata": {
    "collapsed": false
   }
  },
  {
   "cell_type": "code",
   "execution_count": 215,
   "outputs": [
    {
     "data": {
      "text/plain": "                         DATE         TIME                  PICK UP ADDRESS\n2014-07-01 00:00:00  7/1/2014  12:00:00 AM    874 E 139th St Mott Haven, BX\n2014-07-01 00:01:00  7/1/2014  12:01:00 AM    628 E 141st St Mott Haven, BX\n2014-07-01 00:01:00  7/1/2014  12:01:00 AM   601 E 156th St South Bronx, BX\n2014-07-01 00:01:00  7/1/2014  12:01:00 AM    708 E 138th St Mott Haven, BX\n2014-07-01 00:02:00  7/1/2014  12:02:00 AM    700 E 140th St Mott Haven, BX",
      "text/html": "<div>\n<style scoped>\n    .dataframe tbody tr th:only-of-type {\n        vertical-align: middle;\n    }\n\n    .dataframe tbody tr th {\n        vertical-align: top;\n    }\n\n    .dataframe thead th {\n        text-align: right;\n    }\n</style>\n<table border=\"1\" class=\"dataframe\">\n  <thead>\n    <tr style=\"text-align: right;\">\n      <th></th>\n      <th>DATE</th>\n      <th>TIME</th>\n      <th>PICK UP ADDRESS</th>\n    </tr>\n  </thead>\n  <tbody>\n    <tr>\n      <th>2014-07-01 00:00:00</th>\n      <td>7/1/2014</td>\n      <td>12:00:00 AM</td>\n      <td>874 E 139th St Mott Haven, BX</td>\n    </tr>\n    <tr>\n      <th>2014-07-01 00:01:00</th>\n      <td>7/1/2014</td>\n      <td>12:01:00 AM</td>\n      <td>628 E 141st St Mott Haven, BX</td>\n    </tr>\n    <tr>\n      <th>2014-07-01 00:01:00</th>\n      <td>7/1/2014</td>\n      <td>12:01:00 AM</td>\n      <td>601 E 156th St South Bronx, BX</td>\n    </tr>\n    <tr>\n      <th>2014-07-01 00:01:00</th>\n      <td>7/1/2014</td>\n      <td>12:01:00 AM</td>\n      <td>708 E 138th St Mott Haven, BX</td>\n    </tr>\n    <tr>\n      <th>2014-07-01 00:02:00</th>\n      <td>7/1/2014</td>\n      <td>12:02:00 AM</td>\n      <td>700 E 140th St Mott Haven, BX</td>\n    </tr>\n  </tbody>\n</table>\n</div>"
     },
     "execution_count": 215,
     "metadata": {},
     "output_type": "execute_result"
    }
   ],
   "source": [
    "df_uber.head()"
   ],
   "metadata": {
    "collapsed": false
   }
  },
  {
   "cell_type": "markdown",
   "source": [
    "2.16.7 По файлу определите на какой адрес такси вызывали наибольшее кол-во раз."
   ],
   "metadata": {
    "collapsed": false
   }
  },
  {
   "cell_type": "code",
   "execution_count": 107,
   "outputs": [
    {
     "name": "stdout",
     "output_type": "stream",
     "text": [
      " 400 Brook Ave Mott Haven, BX\n"
     ]
    }
   ],
   "source": [
    "print(df_uber['PICK UP ADDRESS'].value_counts().idxmax())"
   ],
   "metadata": {
    "collapsed": false
   }
  },
  {
   "cell_type": "markdown",
   "source": [
    "2.16.8 По файлу определите самый загруженный день."
   ],
   "metadata": {
    "collapsed": false
   }
  },
  {
   "cell_type": "code",
   "execution_count": 108,
   "outputs": [
    {
     "name": "stdout",
     "output_type": "stream",
     "text": [
      "2014-09-13\n"
     ]
    }
   ],
   "source": [
    "print(df_uber.resample('D')['PICK UP ADDRESS'].count().idxmax().date())"
   ],
   "metadata": {
    "collapsed": false
   }
  },
  {
   "cell_type": "markdown",
   "source": [
    "2.16.9 По файлу определите самую загруженную неделю. В качестве ответа укажите дату последнего дня недели (resample выдает ее по умолчанию)."
   ],
   "metadata": {
    "collapsed": false
   }
  },
  {
   "cell_type": "code",
   "execution_count": 109,
   "outputs": [
    {
     "name": "stdout",
     "output_type": "stream",
     "text": [
      "2014-09-14\n"
     ]
    }
   ],
   "source": [
    "print(df_uber.resample('W')['PICK UP ADDRESS'].count().idxmax().date())"
   ],
   "metadata": {
    "collapsed": false
   }
  },
  {
   "cell_type": "markdown",
   "source": [
    "## И последний файл."
   ],
   "metadata": {
    "collapsed": false
   }
  },
  {
   "cell_type": "code",
   "execution_count": 204,
   "outputs": [
    {
     "data": {
      "text/plain": "                Event Description  Year Date Event Began Time Event Began  \\\n0  Severe Weather - Thunderstorms  2014        6/30/2014          8:00 PM   \n1  Severe Weather - Thunderstorms  2014        6/30/2014         11:20 PM   \n2  Severe Weather - Thunderstorms  2014        6/30/2014          5:55 PM   \n3     Physical Attack - Vandalism  2014        6/24/2014          2:54 PM   \n4     Physical Attack - Vandalism  2014        6/19/2014          8:47 AM   \n\n  Date of Restoration Time of Restoration  \\\n0            7/2/2014             6:30 PM   \n1            7/1/2014             5:00 PM   \n2            7/1/2014             2:53 AM   \n3           6/24/2014             2:55 PM   \n4           6/19/2014             8:48 AM   \n\n                                Respondent       Geographic Areas NERC Region  \\\n0                 Exelon Corporation/ComEd               Illinois         RFC   \n1  Northern Indiana Public Service Company  North Central Indiana         RFC   \n2                              We Energies   Southeast  Wisconsin         MRO   \n3               Tennessee Valley Authority   Nashville, Tennessee        SERC   \n4               Tennessee Valley Authority   Nashville, Tennessee        SERC   \n\n  Demand Loss (MW) Number of Customers Affected                          Tags  \n0          Unknown                      420,000  severe weather, thunderstorm  \n1          Unknown                      127,000  severe weather, thunderstorm  \n2              424                      120,000  severe weather, thunderstorm  \n3          Unknown                      Unknown           vandalism, physical  \n4          Unknown                      Unknown           vandalism, physical  ",
      "text/html": "<div>\n<style scoped>\n    .dataframe tbody tr th:only-of-type {\n        vertical-align: middle;\n    }\n\n    .dataframe tbody tr th {\n        vertical-align: top;\n    }\n\n    .dataframe thead th {\n        text-align: right;\n    }\n</style>\n<table border=\"1\" class=\"dataframe\">\n  <thead>\n    <tr style=\"text-align: right;\">\n      <th></th>\n      <th>Event Description</th>\n      <th>Year</th>\n      <th>Date Event Began</th>\n      <th>Time Event Began</th>\n      <th>Date of Restoration</th>\n      <th>Time of Restoration</th>\n      <th>Respondent</th>\n      <th>Geographic Areas</th>\n      <th>NERC Region</th>\n      <th>Demand Loss (MW)</th>\n      <th>Number of Customers Affected</th>\n      <th>Tags</th>\n    </tr>\n  </thead>\n  <tbody>\n    <tr>\n      <th>0</th>\n      <td>Severe Weather - Thunderstorms</td>\n      <td>2014</td>\n      <td>6/30/2014</td>\n      <td>8:00 PM</td>\n      <td>7/2/2014</td>\n      <td>6:30 PM</td>\n      <td>Exelon Corporation/ComEd</td>\n      <td>Illinois</td>\n      <td>RFC</td>\n      <td>Unknown</td>\n      <td>420,000</td>\n      <td>severe weather, thunderstorm</td>\n    </tr>\n    <tr>\n      <th>1</th>\n      <td>Severe Weather - Thunderstorms</td>\n      <td>2014</td>\n      <td>6/30/2014</td>\n      <td>11:20 PM</td>\n      <td>7/1/2014</td>\n      <td>5:00 PM</td>\n      <td>Northern Indiana Public Service Company</td>\n      <td>North Central Indiana</td>\n      <td>RFC</td>\n      <td>Unknown</td>\n      <td>127,000</td>\n      <td>severe weather, thunderstorm</td>\n    </tr>\n    <tr>\n      <th>2</th>\n      <td>Severe Weather - Thunderstorms</td>\n      <td>2014</td>\n      <td>6/30/2014</td>\n      <td>5:55 PM</td>\n      <td>7/1/2014</td>\n      <td>2:53 AM</td>\n      <td>We Energies</td>\n      <td>Southeast  Wisconsin</td>\n      <td>MRO</td>\n      <td>424</td>\n      <td>120,000</td>\n      <td>severe weather, thunderstorm</td>\n    </tr>\n    <tr>\n      <th>3</th>\n      <td>Physical Attack - Vandalism</td>\n      <td>2014</td>\n      <td>6/24/2014</td>\n      <td>2:54 PM</td>\n      <td>6/24/2014</td>\n      <td>2:55 PM</td>\n      <td>Tennessee Valley Authority</td>\n      <td>Nashville, Tennessee</td>\n      <td>SERC</td>\n      <td>Unknown</td>\n      <td>Unknown</td>\n      <td>vandalism, physical</td>\n    </tr>\n    <tr>\n      <th>4</th>\n      <td>Physical Attack - Vandalism</td>\n      <td>2014</td>\n      <td>6/19/2014</td>\n      <td>8:47 AM</td>\n      <td>6/19/2014</td>\n      <td>8:48 AM</td>\n      <td>Tennessee Valley Authority</td>\n      <td>Nashville, Tennessee</td>\n      <td>SERC</td>\n      <td>Unknown</td>\n      <td>Unknown</td>\n      <td>vandalism, physical</td>\n    </tr>\n  </tbody>\n</table>\n</div>"
     },
     "execution_count": 204,
     "metadata": {},
     "output_type": "execute_result"
    }
   ],
   "source": [
    "df_disruptions = pd.read_csv('./content/disruptions.txt')\n",
    "df_disruptions.head()"
   ],
   "metadata": {
    "collapsed": false
   }
  },
  {
   "cell_type": "markdown",
   "source": [
    "В файле содержится информация об аварийных отключениях электричества.\n",
    "Колонки:\n",
    "Event Description - описание происшествия\n",
    "Date Event Began,Time Event Began - дата и время начала происшествия (необходимо перевести в datetime аналогично такси)\n",
    "Date of Restoration,Time of Restoration - дата и время конца происшествия (необходимо перевести в datetime аналогично такси)\n",
    "Respondent - ответственный\n",
    "Demand Loss (MW) - потери спроса в мега ватах\n",
    "Number of Customers Affected - кол-во пострадавших, т.е. у какого кол-ва людей отключилось электричество"
   ],
   "metadata": {
    "collapsed": false
   }
  },
  {
   "cell_type": "code",
   "execution_count": 206,
   "outputs": [],
   "source": [
    "df_disruptions['Began_Date_Time'] = pd.to_datetime(\n",
    "    df_disruptions['Date Event Began'] + ' ' + df_disruptions['Time Event Began'])\n",
    "df_disruptions['Restoration_Date_Time'] = pd.to_datetime(\n",
    "    df_disruptions['Date of Restoration'] + ' ' + df_disruptions['Time of Restoration'])\n",
    "df_disruptions.drop(columns=['Date Event Began', 'Time Event Began', 'Date of Restoration', 'Time of Restoration'],\n",
    "                    inplace=True)"
   ],
   "metadata": {
    "collapsed": false
   }
  },
  {
   "cell_type": "markdown",
   "source": [
    "2.16.10 Напишите в какой месяц и в какой год произошло больше всего аварий"
   ],
   "metadata": {
    "collapsed": false
   }
  },
  {
   "cell_type": "code",
   "execution_count": 127,
   "outputs": [
    {
     "data": {
      "text/plain": "(2012, 10)"
     },
     "execution_count": 127,
     "metadata": {},
     "output_type": "execute_result"
    }
   ],
   "source": [
    "df_disruptions.groupby([df_disruptions.Began_Date_Time.dt.year, df_disruptions.Began_Date_Time.dt.month])[\n",
    "    'Event Description'].count().idxmax()\n"
   ],
   "metadata": {
    "collapsed": false
   }
  },
  {
   "cell_type": "markdown",
   "source": [
    "2.16.11 В какой месяц и год среднее время устранения аварии было минимальным. Ответ запишите в таком формате: \"2015-12\""
   ],
   "metadata": {
    "collapsed": false
   }
  },
  {
   "cell_type": "code",
   "execution_count": 207,
   "outputs": [],
   "source": [
    "df_disruptions['Delta_of_Restoration'] = df_disruptions.Restoration_Date_Time - df_disruptions.Began_Date_Time"
   ],
   "metadata": {
    "collapsed": false
   }
  },
  {
   "cell_type": "code",
   "execution_count": 214,
   "outputs": [
    {
     "data": {
      "text/plain": "'2005-04'"
     },
     "execution_count": 214,
     "metadata": {},
     "output_type": "execute_result"
    }
   ],
   "source": [
    "df_disruptions[df_disruptions['Delta_of_Restoration'] > pd.Timedelta(days=0)].set_index('Began_Date_Time').resample(\n",
    "    'M')['Delta_of_Restoration'].mean().idxmin().strftime('%Y-%m')"
   ],
   "metadata": {
    "collapsed": false
   }
  }
 ],
 "metadata": {
  "kernelspec": {
   "display_name": "Python 3",
   "language": "python",
   "name": "python3"
  },
  "language_info": {
   "codemirror_mode": {
    "name": "ipython",
    "version": 2
   },
   "file_extension": ".py",
   "mimetype": "text/x-python",
   "name": "python",
   "nbconvert_exporter": "python",
   "pygments_lexer": "ipython2",
   "version": "2.7.6"
  }
 },
 "nbformat": 4,
 "nbformat_minor": 0
}
