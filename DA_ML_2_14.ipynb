{
 "cells": [
  {
   "cell_type": "markdown",
   "source": [
    "# 2.14 Pandas. Дата и время"
   ],
   "metadata": {
    "collapsed": false
   }
  },
  {
   "cell_type": "markdown",
   "source": [
    "2.14.4 По данным с сообщениями о преступлениях в Бостоне определите, сколько сообщений было сделано 15-го июня 2015 года в промежуток с 8 до 9 часов утра."
   ],
   "metadata": {
    "collapsed": false
   }
  },
  {
   "cell_type": "code",
   "execution_count": 1,
   "metadata": {
    "collapsed": true
   },
   "outputs": [],
   "source": [
    "import pandas as pd"
   ]
  },
  {
   "cell_type": "code",
   "execution_count": 2,
   "outputs": [],
   "source": [
    "url = 'https://raw.githubusercontent.com/bykov-alexei/data-science-course/master/Pandas/crime.csv'"
   ],
   "metadata": {
    "collapsed": false
   }
  },
  {
   "cell_type": "code",
   "execution_count": 86,
   "outputs": [
    {
     "data": {
      "text/plain": "  INCIDENT_NUMBER  OFFENSE_CODE    OFFENSE_CODE_GROUP   OFFENSE_DESCRIPTION  \\\n0      I182070945           619               Larceny    LARCENY ALL OTHERS   \n1      I182070943          1402             Vandalism             VANDALISM   \n2      I182070941          3410                 Towed   TOWED MOTOR VEHICLE   \n3      I182070940          3114  Investigate Property  INVESTIGATE PROPERTY   \n4      I182070938          3114  Investigate Property  INVESTIGATE PROPERTY   \n\n  DISTRICT REPORTING_AREA SHOOTING     OCCURRED_ON_DATE  YEAR  MONTH  \\\n0      D14            808      NaN  2018-09-02 13:00:00  2018      9   \n1      C11            347      NaN  2018-08-21 00:00:00  2018      8   \n2       D4            151      NaN  2018-09-03 19:27:00  2018      9   \n3       D4            272      NaN  2018-09-03 21:16:00  2018      9   \n4       B3            421      NaN  2018-09-03 21:05:00  2018      9   \n\n  DAY_OF_WEEK  HOUR    UCR_PART       STREET        Lat       Long  \\\n0      Sunday    13    Part One   LINCOLN ST  42.357791 -71.139371   \n1     Tuesday     0    Part Two     HECLA ST  42.306821 -71.060300   \n2      Monday    19  Part Three  CAZENOVE ST  42.346589 -71.072429   \n3      Monday    21  Part Three   NEWCOMB ST  42.334182 -71.078664   \n4      Monday    21  Part Three     DELHI ST  42.275365 -71.090361   \n\n                      Location  \n0  (42.35779134, -71.13937053)  \n1  (42.30682138, -71.06030035)  \n2  (42.34658879, -71.07242943)  \n3  (42.33418175, -71.07866441)  \n4  (42.27536542, -71.09036101)  ",
      "text/html": "<div>\n<style scoped>\n    .dataframe tbody tr th:only-of-type {\n        vertical-align: middle;\n    }\n\n    .dataframe tbody tr th {\n        vertical-align: top;\n    }\n\n    .dataframe thead th {\n        text-align: right;\n    }\n</style>\n<table border=\"1\" class=\"dataframe\">\n  <thead>\n    <tr style=\"text-align: right;\">\n      <th></th>\n      <th>INCIDENT_NUMBER</th>\n      <th>OFFENSE_CODE</th>\n      <th>OFFENSE_CODE_GROUP</th>\n      <th>OFFENSE_DESCRIPTION</th>\n      <th>DISTRICT</th>\n      <th>REPORTING_AREA</th>\n      <th>SHOOTING</th>\n      <th>OCCURRED_ON_DATE</th>\n      <th>YEAR</th>\n      <th>MONTH</th>\n      <th>DAY_OF_WEEK</th>\n      <th>HOUR</th>\n      <th>UCR_PART</th>\n      <th>STREET</th>\n      <th>Lat</th>\n      <th>Long</th>\n      <th>Location</th>\n    </tr>\n  </thead>\n  <tbody>\n    <tr>\n      <th>0</th>\n      <td>I182070945</td>\n      <td>619</td>\n      <td>Larceny</td>\n      <td>LARCENY ALL OTHERS</td>\n      <td>D14</td>\n      <td>808</td>\n      <td>NaN</td>\n      <td>2018-09-02 13:00:00</td>\n      <td>2018</td>\n      <td>9</td>\n      <td>Sunday</td>\n      <td>13</td>\n      <td>Part One</td>\n      <td>LINCOLN ST</td>\n      <td>42.357791</td>\n      <td>-71.139371</td>\n      <td>(42.35779134, -71.13937053)</td>\n    </tr>\n    <tr>\n      <th>1</th>\n      <td>I182070943</td>\n      <td>1402</td>\n      <td>Vandalism</td>\n      <td>VANDALISM</td>\n      <td>C11</td>\n      <td>347</td>\n      <td>NaN</td>\n      <td>2018-08-21 00:00:00</td>\n      <td>2018</td>\n      <td>8</td>\n      <td>Tuesday</td>\n      <td>0</td>\n      <td>Part Two</td>\n      <td>HECLA ST</td>\n      <td>42.306821</td>\n      <td>-71.060300</td>\n      <td>(42.30682138, -71.06030035)</td>\n    </tr>\n    <tr>\n      <th>2</th>\n      <td>I182070941</td>\n      <td>3410</td>\n      <td>Towed</td>\n      <td>TOWED MOTOR VEHICLE</td>\n      <td>D4</td>\n      <td>151</td>\n      <td>NaN</td>\n      <td>2018-09-03 19:27:00</td>\n      <td>2018</td>\n      <td>9</td>\n      <td>Monday</td>\n      <td>19</td>\n      <td>Part Three</td>\n      <td>CAZENOVE ST</td>\n      <td>42.346589</td>\n      <td>-71.072429</td>\n      <td>(42.34658879, -71.07242943)</td>\n    </tr>\n    <tr>\n      <th>3</th>\n      <td>I182070940</td>\n      <td>3114</td>\n      <td>Investigate Property</td>\n      <td>INVESTIGATE PROPERTY</td>\n      <td>D4</td>\n      <td>272</td>\n      <td>NaN</td>\n      <td>2018-09-03 21:16:00</td>\n      <td>2018</td>\n      <td>9</td>\n      <td>Monday</td>\n      <td>21</td>\n      <td>Part Three</td>\n      <td>NEWCOMB ST</td>\n      <td>42.334182</td>\n      <td>-71.078664</td>\n      <td>(42.33418175, -71.07866441)</td>\n    </tr>\n    <tr>\n      <th>4</th>\n      <td>I182070938</td>\n      <td>3114</td>\n      <td>Investigate Property</td>\n      <td>INVESTIGATE PROPERTY</td>\n      <td>B3</td>\n      <td>421</td>\n      <td>NaN</td>\n      <td>2018-09-03 21:05:00</td>\n      <td>2018</td>\n      <td>9</td>\n      <td>Monday</td>\n      <td>21</td>\n      <td>Part Three</td>\n      <td>DELHI ST</td>\n      <td>42.275365</td>\n      <td>-71.090361</td>\n      <td>(42.27536542, -71.09036101)</td>\n    </tr>\n  </tbody>\n</table>\n</div>"
     },
     "execution_count": 86,
     "metadata": {},
     "output_type": "execute_result"
    }
   ],
   "source": [
    "df = pd.read_csv(url, encoding='ANSI')\n",
    "df.head()"
   ],
   "metadata": {
    "collapsed": false
   }
  },
  {
   "cell_type": "code",
   "execution_count": 87,
   "outputs": [],
   "source": [
    "df['OCCURRED_ON_DATE'] = pd.to_datetime(df.OCCURRED_ON_DATE)"
   ],
   "metadata": {
    "collapsed": false
   }
  },
  {
   "cell_type": "code",
   "execution_count": 43,
   "outputs": [
    {
     "data": {
      "text/plain": "       INCIDENT_NUMBER  OFFENSE_CODE               OFFENSE_CODE_GROUP  \\\n315000      I152053893           619                          Larceny   \n315937      I152052877           724                       Auto Theft   \n318470      I152049818          3201                    Property Lost   \n318515      I152049751          1402                        Vandalism   \n318647      I152049548          3207                   Property Found   \n318659      I152049530          3410                            Towed   \n318663      I152049522          1402                        Vandalism   \n318668      I152049511           801                   Simple Assault   \n318669      I152049509           413               Aggravated Assault   \n318671      I152049505          3803  Motor Vehicle Accident Response   \n318674      I152049501          3125                  Warrant Arrests   \n318675      I152049500          3006               Medical Assistance   \n\n                   OFFENSE_DESCRIPTION DISTRICT REPORTING_AREA SHOOTING  \\\n315000              LARCENY ALL OTHERS       D4            172      NaN   \n315937                      AUTO THEFT       B3            439      NaN   \n318470                 PROPERTY - LOST       B2            327      NaN   \n318515                       VANDALISM       D4            137      NaN   \n318647                PROPERTY - FOUND       A1            107      NaN   \n318659             TOWED MOTOR VEHICLE       C6            220      NaN   \n318663                       VANDALISM      C11            337      NaN   \n318668                ASSAULT - SIMPLE      C11            257      NaN   \n318669  ASSAULT - AGGRAVATED - BATTERY       B2            322      NaN   \n318671  M/V ACCIDENT - PERSONAL INJURY       D4            270      NaN   \n318674                  WARRANT ARREST       A1            123      NaN   \n318675   SICK/INJURED/MEDICAL - PERSON      C11            356      NaN   \n\n          OCCURRED_ON_DATE  YEAR  MONTH DAY_OF_WEEK  HOUR    UCR_PART  \\\n315000 2015-06-15 08:00:00  2015      6      Monday     8    Part One   \n315937 2015-06-15 08:00:00  2015      6      Monday     8    Part One   \n318470 2015-06-15 08:30:00  2015      6      Monday     8  Part Three   \n318515 2015-06-15 08:00:00  2015      6      Monday     8    Part Two   \n318647 2015-06-15 08:20:00  2015      6      Monday     8  Part Three   \n318659 2015-06-15 08:54:00  2015      6      Monday     8  Part Three   \n318663 2015-06-15 08:13:00  2015      6      Monday     8    Part Two   \n318668 2015-06-15 08:15:00  2015      6      Monday     8    Part Two   \n318669 2015-06-15 08:10:00  2015      6      Monday     8    Part One   \n318671 2015-06-15 08:33:00  2015      6      Monday     8  Part Three   \n318674 2015-06-15 08:00:00  2015      6      Monday     8  Part Three   \n318675 2015-06-15 08:00:00  2015      6      Monday     8  Part Three   \n\n               STREET        Lat       Long                     Location  \n315000      ALBANY ST  42.334288 -71.072395  (42.33428841, -71.07239518)  \n315937    STRATTON ST  42.289285 -71.086678  (42.28928493, -71.08667781)  \n318470     EMROSE TER  42.314605 -71.072075  (42.31460520, -71.07207475)  \n318515     NEWBURY ST  42.349421 -71.083158  (42.34942050, -71.08315800)  \n318647     FEDERAL ST  42.356133 -71.056635  (42.35613296, -71.05663451)  \n318659  OLD HARBOR ST  42.333788 -71.047472  (42.33378771, -71.04747172)  \n318663       ROCK TER  42.306121 -71.071832  (42.30612092, -71.07183167)  \n318668    GLENDALE ST  42.313561 -71.065208  (42.31356107, -71.06520779)  \n318669      WARREN ST  42.315031 -71.083440  (42.31503085, -71.08344018)  \n318671   HARRISON AVE  42.332102 -71.079283  (42.33210200, -71.07928300)  \n318674  WASHINGTON ST  42.349973 -71.063488  (42.34997256, -71.06348817)  \n318675     CHARLES ST  42.299909 -71.064248  (42.29990887, -71.06424768)  ",
      "text/html": "<div>\n<style scoped>\n    .dataframe tbody tr th:only-of-type {\n        vertical-align: middle;\n    }\n\n    .dataframe tbody tr th {\n        vertical-align: top;\n    }\n\n    .dataframe thead th {\n        text-align: right;\n    }\n</style>\n<table border=\"1\" class=\"dataframe\">\n  <thead>\n    <tr style=\"text-align: right;\">\n      <th></th>\n      <th>INCIDENT_NUMBER</th>\n      <th>OFFENSE_CODE</th>\n      <th>OFFENSE_CODE_GROUP</th>\n      <th>OFFENSE_DESCRIPTION</th>\n      <th>DISTRICT</th>\n      <th>REPORTING_AREA</th>\n      <th>SHOOTING</th>\n      <th>OCCURRED_ON_DATE</th>\n      <th>YEAR</th>\n      <th>MONTH</th>\n      <th>DAY_OF_WEEK</th>\n      <th>HOUR</th>\n      <th>UCR_PART</th>\n      <th>STREET</th>\n      <th>Lat</th>\n      <th>Long</th>\n      <th>Location</th>\n    </tr>\n  </thead>\n  <tbody>\n    <tr>\n      <th>315000</th>\n      <td>I152053893</td>\n      <td>619</td>\n      <td>Larceny</td>\n      <td>LARCENY ALL OTHERS</td>\n      <td>D4</td>\n      <td>172</td>\n      <td>NaN</td>\n      <td>2015-06-15 08:00:00</td>\n      <td>2015</td>\n      <td>6</td>\n      <td>Monday</td>\n      <td>8</td>\n      <td>Part One</td>\n      <td>ALBANY ST</td>\n      <td>42.334288</td>\n      <td>-71.072395</td>\n      <td>(42.33428841, -71.07239518)</td>\n    </tr>\n    <tr>\n      <th>315937</th>\n      <td>I152052877</td>\n      <td>724</td>\n      <td>Auto Theft</td>\n      <td>AUTO THEFT</td>\n      <td>B3</td>\n      <td>439</td>\n      <td>NaN</td>\n      <td>2015-06-15 08:00:00</td>\n      <td>2015</td>\n      <td>6</td>\n      <td>Monday</td>\n      <td>8</td>\n      <td>Part One</td>\n      <td>STRATTON ST</td>\n      <td>42.289285</td>\n      <td>-71.086678</td>\n      <td>(42.28928493, -71.08667781)</td>\n    </tr>\n    <tr>\n      <th>318470</th>\n      <td>I152049818</td>\n      <td>3201</td>\n      <td>Property Lost</td>\n      <td>PROPERTY - LOST</td>\n      <td>B2</td>\n      <td>327</td>\n      <td>NaN</td>\n      <td>2015-06-15 08:30:00</td>\n      <td>2015</td>\n      <td>6</td>\n      <td>Monday</td>\n      <td>8</td>\n      <td>Part Three</td>\n      <td>EMROSE TER</td>\n      <td>42.314605</td>\n      <td>-71.072075</td>\n      <td>(42.31460520, -71.07207475)</td>\n    </tr>\n    <tr>\n      <th>318515</th>\n      <td>I152049751</td>\n      <td>1402</td>\n      <td>Vandalism</td>\n      <td>VANDALISM</td>\n      <td>D4</td>\n      <td>137</td>\n      <td>NaN</td>\n      <td>2015-06-15 08:00:00</td>\n      <td>2015</td>\n      <td>6</td>\n      <td>Monday</td>\n      <td>8</td>\n      <td>Part Two</td>\n      <td>NEWBURY ST</td>\n      <td>42.349421</td>\n      <td>-71.083158</td>\n      <td>(42.34942050, -71.08315800)</td>\n    </tr>\n    <tr>\n      <th>318647</th>\n      <td>I152049548</td>\n      <td>3207</td>\n      <td>Property Found</td>\n      <td>PROPERTY - FOUND</td>\n      <td>A1</td>\n      <td>107</td>\n      <td>NaN</td>\n      <td>2015-06-15 08:20:00</td>\n      <td>2015</td>\n      <td>6</td>\n      <td>Monday</td>\n      <td>8</td>\n      <td>Part Three</td>\n      <td>FEDERAL ST</td>\n      <td>42.356133</td>\n      <td>-71.056635</td>\n      <td>(42.35613296, -71.05663451)</td>\n    </tr>\n    <tr>\n      <th>318659</th>\n      <td>I152049530</td>\n      <td>3410</td>\n      <td>Towed</td>\n      <td>TOWED MOTOR VEHICLE</td>\n      <td>C6</td>\n      <td>220</td>\n      <td>NaN</td>\n      <td>2015-06-15 08:54:00</td>\n      <td>2015</td>\n      <td>6</td>\n      <td>Monday</td>\n      <td>8</td>\n      <td>Part Three</td>\n      <td>OLD HARBOR ST</td>\n      <td>42.333788</td>\n      <td>-71.047472</td>\n      <td>(42.33378771, -71.04747172)</td>\n    </tr>\n    <tr>\n      <th>318663</th>\n      <td>I152049522</td>\n      <td>1402</td>\n      <td>Vandalism</td>\n      <td>VANDALISM</td>\n      <td>C11</td>\n      <td>337</td>\n      <td>NaN</td>\n      <td>2015-06-15 08:13:00</td>\n      <td>2015</td>\n      <td>6</td>\n      <td>Monday</td>\n      <td>8</td>\n      <td>Part Two</td>\n      <td>ROCK TER</td>\n      <td>42.306121</td>\n      <td>-71.071832</td>\n      <td>(42.30612092, -71.07183167)</td>\n    </tr>\n    <tr>\n      <th>318668</th>\n      <td>I152049511</td>\n      <td>801</td>\n      <td>Simple Assault</td>\n      <td>ASSAULT - SIMPLE</td>\n      <td>C11</td>\n      <td>257</td>\n      <td>NaN</td>\n      <td>2015-06-15 08:15:00</td>\n      <td>2015</td>\n      <td>6</td>\n      <td>Monday</td>\n      <td>8</td>\n      <td>Part Two</td>\n      <td>GLENDALE ST</td>\n      <td>42.313561</td>\n      <td>-71.065208</td>\n      <td>(42.31356107, -71.06520779)</td>\n    </tr>\n    <tr>\n      <th>318669</th>\n      <td>I152049509</td>\n      <td>413</td>\n      <td>Aggravated Assault</td>\n      <td>ASSAULT - AGGRAVATED - BATTERY</td>\n      <td>B2</td>\n      <td>322</td>\n      <td>NaN</td>\n      <td>2015-06-15 08:10:00</td>\n      <td>2015</td>\n      <td>6</td>\n      <td>Monday</td>\n      <td>8</td>\n      <td>Part One</td>\n      <td>WARREN ST</td>\n      <td>42.315031</td>\n      <td>-71.083440</td>\n      <td>(42.31503085, -71.08344018)</td>\n    </tr>\n    <tr>\n      <th>318671</th>\n      <td>I152049505</td>\n      <td>3803</td>\n      <td>Motor Vehicle Accident Response</td>\n      <td>M/V ACCIDENT - PERSONAL INJURY</td>\n      <td>D4</td>\n      <td>270</td>\n      <td>NaN</td>\n      <td>2015-06-15 08:33:00</td>\n      <td>2015</td>\n      <td>6</td>\n      <td>Monday</td>\n      <td>8</td>\n      <td>Part Three</td>\n      <td>HARRISON AVE</td>\n      <td>42.332102</td>\n      <td>-71.079283</td>\n      <td>(42.33210200, -71.07928300)</td>\n    </tr>\n    <tr>\n      <th>318674</th>\n      <td>I152049501</td>\n      <td>3125</td>\n      <td>Warrant Arrests</td>\n      <td>WARRANT ARREST</td>\n      <td>A1</td>\n      <td>123</td>\n      <td>NaN</td>\n      <td>2015-06-15 08:00:00</td>\n      <td>2015</td>\n      <td>6</td>\n      <td>Monday</td>\n      <td>8</td>\n      <td>Part Three</td>\n      <td>WASHINGTON ST</td>\n      <td>42.349973</td>\n      <td>-71.063488</td>\n      <td>(42.34997256, -71.06348817)</td>\n    </tr>\n    <tr>\n      <th>318675</th>\n      <td>I152049500</td>\n      <td>3006</td>\n      <td>Medical Assistance</td>\n      <td>SICK/INJURED/MEDICAL - PERSON</td>\n      <td>C11</td>\n      <td>356</td>\n      <td>NaN</td>\n      <td>2015-06-15 08:00:00</td>\n      <td>2015</td>\n      <td>6</td>\n      <td>Monday</td>\n      <td>8</td>\n      <td>Part Three</td>\n      <td>CHARLES ST</td>\n      <td>42.299909</td>\n      <td>-71.064248</td>\n      <td>(42.29990887, -71.06424768)</td>\n    </tr>\n  </tbody>\n</table>\n</div>"
     },
     "execution_count": 43,
     "metadata": {},
     "output_type": "execute_result"
    }
   ],
   "source": [
    "df[(df.OCCURRED_ON_DATE.dt.year == 2015) & (df.MONTH == 6) & (df.OCCURRED_ON_DATE.dt.day == 15) & (\n",
    "    df.OCCURRED_ON_DATE.dt.hour.between(8, 9, inclusive='left'))]"
   ],
   "metadata": {
    "collapsed": false
   }
  },
  {
   "cell_type": "code",
   "execution_count": 49,
   "outputs": [
    {
     "data": {
      "text/plain": "12"
     },
     "execution_count": 49,
     "metadata": {},
     "output_type": "execute_result"
    }
   ],
   "source": [
    "df.OCCURRED_ON_DATE.between('2015-06-15 08:00:00', '2015-06-15 09:00:00', inclusive='left').sum()"
   ],
   "metadata": {
    "collapsed": false
   }
  },
  {
   "cell_type": "code",
   "execution_count": 50,
   "outputs": [],
   "source": [
    "t1, t2 = pd.Timestamp(2015, 6, 15, 8), pd.Timestamp(2015, 6, 15, 9)\n",
    "df.OCCURRED_ON_DATE.between(t1, t2, inclusive='left').sum()"
   ],
   "metadata": {
    "collapsed": false
   }
  },
  {
   "cell_type": "markdown",
   "source": [
    "2.14.5 По данным с сообщениями о преступлениях в Бостоне определите, сколько сообщений было сделано 15-го июня 2015 года в промежуток с 6 до 9 часов утра."
   ],
   "metadata": {
    "collapsed": false
   }
  },
  {
   "cell_type": "code",
   "execution_count": 53,
   "outputs": [
    {
     "data": {
      "text/plain": "22"
     },
     "execution_count": 53,
     "metadata": {},
     "output_type": "execute_result"
    }
   ],
   "source": [
    "t1, t2 = pd.Timestamp(2015, 6, 15, 6), pd.Timestamp(2015, 6, 15, 9)\n",
    "df.OCCURRED_ON_DATE.between(t1, t2, inclusive='left').sum()"
   ],
   "metadata": {
    "collapsed": false
   }
  },
  {
   "cell_type": "markdown",
   "source": [
    "2.14.6 По данным с сообщениями о преступлениях в Бостоне определите, сколько сообщений о вандализме было сделано первого января 2017 года."
   ],
   "metadata": {
    "collapsed": false
   }
  },
  {
   "cell_type": "code",
   "execution_count": 77,
   "outputs": [],
   "source": [
    "t1 = pd.Timestamp(2017, 1, 1)\n",
    "t2 = pd.Timestamp(2017, 1, 2)"
   ],
   "metadata": {
    "collapsed": false
   }
  },
  {
   "cell_type": "code",
   "execution_count": 79,
   "outputs": [
    {
     "data": {
      "text/plain": "12"
     },
     "execution_count": 79,
     "metadata": {},
     "output_type": "execute_result"
    }
   ],
   "source": [
    "((df.OFFENSE_DESCRIPTION == 'VANDALISM') & (df.OCCURRED_ON_DATE.between(t1, t2, inclusive='left'))).sum()"
   ],
   "metadata": {
    "collapsed": false
   }
  },
  {
   "cell_type": "markdown",
   "source": [
    "2.14.6 По данным с сообщениями о преступлениях в Бостоне определите, день 2017 года, когда было больше всего сообщений о вандализме."
   ],
   "metadata": {
    "collapsed": false
   }
  },
  {
   "cell_type": "code",
   "execution_count": 104,
   "outputs": [
    {
     "name": "stdout",
     "output_type": "stream",
     "text": [
      "2017-05-05\n"
     ]
    }
   ],
   "source": [
    "t = df[(df.OFFENSE_CODE_GROUP == 'Vandalism') & (df.YEAR == 2017)]\n",
    "print(t.OCCURRED_ON_DATE.dt.date.value_counts().idxmax())"
   ],
   "metadata": {
    "collapsed": false
   }
  },
  {
   "cell_type": "code",
   "execution_count": null,
   "outputs": [],
   "source": [],
   "metadata": {
    "collapsed": false
   }
  }
 ],
 "metadata": {
  "kernelspec": {
   "display_name": "Python 3",
   "language": "python",
   "name": "python3"
  },
  "language_info": {
   "codemirror_mode": {
    "name": "ipython",
    "version": 2
   },
   "file_extension": ".py",
   "mimetype": "text/x-python",
   "name": "python",
   "nbconvert_exporter": "python",
   "pygments_lexer": "ipython2",
   "version": "2.7.6"
  }
 },
 "nbformat": 4,
 "nbformat_minor": 0
}
